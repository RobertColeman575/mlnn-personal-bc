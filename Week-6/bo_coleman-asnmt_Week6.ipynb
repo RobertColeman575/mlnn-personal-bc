{
 "cells": [
  {
   "cell_type": "markdown",
   "metadata": {},
   "source": [
    "# Assignment is below at the end"
   ]
  },
  {
   "cell_type": "markdown",
   "metadata": {},
   "source": [
    "- https://scikit-learn.org/stable/modules/tree.html\n",
    "- https://scikit-learn.org/stable/modules/generated/sklearn.tree.DecisionTreeClassifier.html\n",
    "- https://scikit-learn.org/stable/modules/generated/sklearn.tree.plot_tree.html"
   ]
  },
  {
   "cell_type": "code",
   "execution_count": 244,
   "metadata": {},
   "outputs": [],
   "source": [
    "import seaborn as sns\n",
    "import matplotlib.pyplot as plt\n",
    "%matplotlib inline\n",
    "plt.rcParams['figure.figsize'] = (20, 6)\n",
    "plt.rcParams['font.size'] = 14\n",
    "import pandas as pd\n",
    "import numpy as np"
   ]
  },
  {
   "cell_type": "code",
   "execution_count": 245,
   "metadata": {},
   "outputs": [],
   "source": [
    "df = pd.read_csv(r'C:\\Users\\17036\\Desktop\\mlnn\\data\\adult.data', index_col=False)"
   ]
  },
  {
   "cell_type": "code",
   "execution_count": 246,
   "metadata": {},
   "outputs": [],
   "source": [
    "golden = pd.read_csv(r'C:\\Users\\17036\\Desktop\\mlnn\\data\\adult.test', index_col=False)"
   ]
  },
  {
   "cell_type": "code",
   "execution_count": 247,
   "metadata": {},
   "outputs": [
    {
     "data": {
      "text/html": [
       "<div>\n",
       "<style scoped>\n",
       "    .dataframe tbody tr th:only-of-type {\n",
       "        vertical-align: middle;\n",
       "    }\n",
       "\n",
       "    .dataframe tbody tr th {\n",
       "        vertical-align: top;\n",
       "    }\n",
       "\n",
       "    .dataframe thead th {\n",
       "        text-align: right;\n",
       "    }\n",
       "</style>\n",
       "<table border=\"1\" class=\"dataframe\">\n",
       "  <thead>\n",
       "    <tr style=\"text-align: right;\">\n",
       "      <th></th>\n",
       "      <th>age</th>\n",
       "      <th>workclass</th>\n",
       "      <th>fnlwgt</th>\n",
       "      <th>education</th>\n",
       "      <th>education-num</th>\n",
       "      <th>marital-status</th>\n",
       "      <th>occupation</th>\n",
       "      <th>relationship</th>\n",
       "      <th>race</th>\n",
       "      <th>sex</th>\n",
       "      <th>capital-gain</th>\n",
       "      <th>capital-loss</th>\n",
       "      <th>hours-per-week</th>\n",
       "      <th>native-country</th>\n",
       "      <th>salary</th>\n",
       "    </tr>\n",
       "  </thead>\n",
       "  <tbody>\n",
       "    <tr>\n",
       "      <th>0</th>\n",
       "      <td>25</td>\n",
       "      <td>Private</td>\n",
       "      <td>226802</td>\n",
       "      <td>11th</td>\n",
       "      <td>7</td>\n",
       "      <td>Never-married</td>\n",
       "      <td>Machine-op-inspct</td>\n",
       "      <td>Own-child</td>\n",
       "      <td>Black</td>\n",
       "      <td>Male</td>\n",
       "      <td>0</td>\n",
       "      <td>0</td>\n",
       "      <td>40</td>\n",
       "      <td>United-States</td>\n",
       "      <td>&lt;=50K.</td>\n",
       "    </tr>\n",
       "    <tr>\n",
       "      <th>1</th>\n",
       "      <td>38</td>\n",
       "      <td>Private</td>\n",
       "      <td>89814</td>\n",
       "      <td>HS-grad</td>\n",
       "      <td>9</td>\n",
       "      <td>Married-civ-spouse</td>\n",
       "      <td>Farming-fishing</td>\n",
       "      <td>Husband</td>\n",
       "      <td>White</td>\n",
       "      <td>Male</td>\n",
       "      <td>0</td>\n",
       "      <td>0</td>\n",
       "      <td>50</td>\n",
       "      <td>United-States</td>\n",
       "      <td>&lt;=50K.</td>\n",
       "    </tr>\n",
       "    <tr>\n",
       "      <th>2</th>\n",
       "      <td>28</td>\n",
       "      <td>Local-gov</td>\n",
       "      <td>336951</td>\n",
       "      <td>Assoc-acdm</td>\n",
       "      <td>12</td>\n",
       "      <td>Married-civ-spouse</td>\n",
       "      <td>Protective-serv</td>\n",
       "      <td>Husband</td>\n",
       "      <td>White</td>\n",
       "      <td>Male</td>\n",
       "      <td>0</td>\n",
       "      <td>0</td>\n",
       "      <td>40</td>\n",
       "      <td>United-States</td>\n",
       "      <td>&gt;50K.</td>\n",
       "    </tr>\n",
       "    <tr>\n",
       "      <th>3</th>\n",
       "      <td>44</td>\n",
       "      <td>Private</td>\n",
       "      <td>160323</td>\n",
       "      <td>Some-college</td>\n",
       "      <td>10</td>\n",
       "      <td>Married-civ-spouse</td>\n",
       "      <td>Machine-op-inspct</td>\n",
       "      <td>Husband</td>\n",
       "      <td>Black</td>\n",
       "      <td>Male</td>\n",
       "      <td>7688</td>\n",
       "      <td>0</td>\n",
       "      <td>40</td>\n",
       "      <td>United-States</td>\n",
       "      <td>&gt;50K.</td>\n",
       "    </tr>\n",
       "    <tr>\n",
       "      <th>4</th>\n",
       "      <td>18</td>\n",
       "      <td>?</td>\n",
       "      <td>103497</td>\n",
       "      <td>Some-college</td>\n",
       "      <td>10</td>\n",
       "      <td>Never-married</td>\n",
       "      <td>?</td>\n",
       "      <td>Own-child</td>\n",
       "      <td>White</td>\n",
       "      <td>Female</td>\n",
       "      <td>0</td>\n",
       "      <td>0</td>\n",
       "      <td>30</td>\n",
       "      <td>United-States</td>\n",
       "      <td>&lt;=50K.</td>\n",
       "    </tr>\n",
       "  </tbody>\n",
       "</table>\n",
       "</div>"
      ],
      "text/plain": [
       "   age   workclass  fnlwgt      education  education-num       marital-status  \\\n",
       "0   25     Private  226802           11th              7        Never-married   \n",
       "1   38     Private   89814        HS-grad              9   Married-civ-spouse   \n",
       "2   28   Local-gov  336951     Assoc-acdm             12   Married-civ-spouse   \n",
       "3   44     Private  160323   Some-college             10   Married-civ-spouse   \n",
       "4   18           ?  103497   Some-college             10        Never-married   \n",
       "\n",
       "           occupation relationship    race      sex  capital-gain  \\\n",
       "0   Machine-op-inspct    Own-child   Black     Male             0   \n",
       "1     Farming-fishing      Husband   White     Male             0   \n",
       "2     Protective-serv      Husband   White     Male             0   \n",
       "3   Machine-op-inspct      Husband   Black     Male          7688   \n",
       "4                   ?    Own-child   White   Female             0   \n",
       "\n",
       "   capital-loss  hours-per-week  native-country   salary  \n",
       "0             0              40   United-States   <=50K.  \n",
       "1             0              50   United-States   <=50K.  \n",
       "2             0              40   United-States    >50K.  \n",
       "3             0              40   United-States    >50K.  \n",
       "4             0              30   United-States   <=50K.  "
      ]
     },
     "execution_count": 247,
     "metadata": {},
     "output_type": "execute_result"
    }
   ],
   "source": [
    "golden.head()"
   ]
  },
  {
   "cell_type": "code",
   "execution_count": 248,
   "metadata": {},
   "outputs": [
    {
     "data": {
      "text/html": [
       "<div>\n",
       "<style scoped>\n",
       "    .dataframe tbody tr th:only-of-type {\n",
       "        vertical-align: middle;\n",
       "    }\n",
       "\n",
       "    .dataframe tbody tr th {\n",
       "        vertical-align: top;\n",
       "    }\n",
       "\n",
       "    .dataframe thead th {\n",
       "        text-align: right;\n",
       "    }\n",
       "</style>\n",
       "<table border=\"1\" class=\"dataframe\">\n",
       "  <thead>\n",
       "    <tr style=\"text-align: right;\">\n",
       "      <th></th>\n",
       "      <th>age</th>\n",
       "      <th>workclass</th>\n",
       "      <th>fnlwgt</th>\n",
       "      <th>education</th>\n",
       "      <th>education-num</th>\n",
       "      <th>marital-status</th>\n",
       "      <th>occupation</th>\n",
       "      <th>relationship</th>\n",
       "      <th>race</th>\n",
       "      <th>sex</th>\n",
       "      <th>capital-gain</th>\n",
       "      <th>capital-loss</th>\n",
       "      <th>hours-per-week</th>\n",
       "      <th>native-country</th>\n",
       "      <th>salary</th>\n",
       "    </tr>\n",
       "  </thead>\n",
       "  <tbody>\n",
       "    <tr>\n",
       "      <th>0</th>\n",
       "      <td>39</td>\n",
       "      <td>State-gov</td>\n",
       "      <td>77516</td>\n",
       "      <td>Bachelors</td>\n",
       "      <td>13</td>\n",
       "      <td>Never-married</td>\n",
       "      <td>Adm-clerical</td>\n",
       "      <td>Not-in-family</td>\n",
       "      <td>White</td>\n",
       "      <td>Male</td>\n",
       "      <td>2174</td>\n",
       "      <td>0</td>\n",
       "      <td>40</td>\n",
       "      <td>United-States</td>\n",
       "      <td>&lt;=50K</td>\n",
       "    </tr>\n",
       "    <tr>\n",
       "      <th>1</th>\n",
       "      <td>50</td>\n",
       "      <td>Self-emp-not-inc</td>\n",
       "      <td>83311</td>\n",
       "      <td>Bachelors</td>\n",
       "      <td>13</td>\n",
       "      <td>Married-civ-spouse</td>\n",
       "      <td>Exec-managerial</td>\n",
       "      <td>Husband</td>\n",
       "      <td>White</td>\n",
       "      <td>Male</td>\n",
       "      <td>0</td>\n",
       "      <td>0</td>\n",
       "      <td>13</td>\n",
       "      <td>United-States</td>\n",
       "      <td>&lt;=50K</td>\n",
       "    </tr>\n",
       "    <tr>\n",
       "      <th>2</th>\n",
       "      <td>38</td>\n",
       "      <td>Private</td>\n",
       "      <td>215646</td>\n",
       "      <td>HS-grad</td>\n",
       "      <td>9</td>\n",
       "      <td>Divorced</td>\n",
       "      <td>Handlers-cleaners</td>\n",
       "      <td>Not-in-family</td>\n",
       "      <td>White</td>\n",
       "      <td>Male</td>\n",
       "      <td>0</td>\n",
       "      <td>0</td>\n",
       "      <td>40</td>\n",
       "      <td>United-States</td>\n",
       "      <td>&lt;=50K</td>\n",
       "    </tr>\n",
       "    <tr>\n",
       "      <th>3</th>\n",
       "      <td>53</td>\n",
       "      <td>Private</td>\n",
       "      <td>234721</td>\n",
       "      <td>11th</td>\n",
       "      <td>7</td>\n",
       "      <td>Married-civ-spouse</td>\n",
       "      <td>Handlers-cleaners</td>\n",
       "      <td>Husband</td>\n",
       "      <td>Black</td>\n",
       "      <td>Male</td>\n",
       "      <td>0</td>\n",
       "      <td>0</td>\n",
       "      <td>40</td>\n",
       "      <td>United-States</td>\n",
       "      <td>&lt;=50K</td>\n",
       "    </tr>\n",
       "    <tr>\n",
       "      <th>4</th>\n",
       "      <td>28</td>\n",
       "      <td>Private</td>\n",
       "      <td>338409</td>\n",
       "      <td>Bachelors</td>\n",
       "      <td>13</td>\n",
       "      <td>Married-civ-spouse</td>\n",
       "      <td>Prof-specialty</td>\n",
       "      <td>Wife</td>\n",
       "      <td>Black</td>\n",
       "      <td>Female</td>\n",
       "      <td>0</td>\n",
       "      <td>0</td>\n",
       "      <td>40</td>\n",
       "      <td>Cuba</td>\n",
       "      <td>&lt;=50K</td>\n",
       "    </tr>\n",
       "  </tbody>\n",
       "</table>\n",
       "</div>"
      ],
      "text/plain": [
       "   age          workclass  fnlwgt   education  education-num  \\\n",
       "0   39          State-gov   77516   Bachelors             13   \n",
       "1   50   Self-emp-not-inc   83311   Bachelors             13   \n",
       "2   38            Private  215646     HS-grad              9   \n",
       "3   53            Private  234721        11th              7   \n",
       "4   28            Private  338409   Bachelors             13   \n",
       "\n",
       "        marital-status          occupation    relationship    race      sex  \\\n",
       "0        Never-married        Adm-clerical   Not-in-family   White     Male   \n",
       "1   Married-civ-spouse     Exec-managerial         Husband   White     Male   \n",
       "2             Divorced   Handlers-cleaners   Not-in-family   White     Male   \n",
       "3   Married-civ-spouse   Handlers-cleaners         Husband   Black     Male   \n",
       "4   Married-civ-spouse      Prof-specialty            Wife   Black   Female   \n",
       "\n",
       "   capital-gain  capital-loss  hours-per-week  native-country  salary  \n",
       "0          2174             0              40   United-States   <=50K  \n",
       "1             0             0              13   United-States   <=50K  \n",
       "2             0             0              40   United-States   <=50K  \n",
       "3             0             0              40   United-States   <=50K  \n",
       "4             0             0              40            Cuba   <=50K  "
      ]
     },
     "execution_count": 248,
     "metadata": {},
     "output_type": "execute_result"
    }
   ],
   "source": [
    "df.head()"
   ]
  },
  {
   "cell_type": "code",
   "execution_count": 249,
   "metadata": {},
   "outputs": [
    {
     "data": {
      "text/plain": [
       "Index(['age', 'workclass', 'fnlwgt', 'education', 'education-num',\n",
       "       'marital-status', 'occupation', 'relationship', 'race', 'sex',\n",
       "       'capital-gain', 'capital-loss', 'hours-per-week', 'native-country',\n",
       "       'salary'],\n",
       "      dtype='object')"
      ]
     },
     "execution_count": 249,
     "metadata": {},
     "output_type": "execute_result"
    }
   ],
   "source": [
    "df.columns"
   ]
  },
  {
   "cell_type": "code",
   "execution_count": 250,
   "metadata": {},
   "outputs": [],
   "source": [
    "from sklearn import preprocessing"
   ]
  },
  {
   "cell_type": "code",
   "execution_count": 251,
   "metadata": {},
   "outputs": [],
   "source": [
    "enc = preprocessing.OrdinalEncoder()"
   ]
  },
  {
   "cell_type": "code",
   "execution_count": 252,
   "metadata": {},
   "outputs": [],
   "source": [
    "transform_columns = ['sex']\n",
    "non_num_columns = ['workclass', 'education', 'marital-status', \n",
    "                     'occupation', 'relationship', 'race', 'sex', \n",
    "                     'native-country']"
   ]
  },
  {
   "cell_type": "code",
   "execution_count": 253,
   "metadata": {},
   "outputs": [
    {
     "data": {
      "text/html": [
       "<div>\n",
       "<style scoped>\n",
       "    .dataframe tbody tr th:only-of-type {\n",
       "        vertical-align: middle;\n",
       "    }\n",
       "\n",
       "    .dataframe tbody tr th {\n",
       "        vertical-align: top;\n",
       "    }\n",
       "\n",
       "    .dataframe thead th {\n",
       "        text-align: right;\n",
       "    }\n",
       "</style>\n",
       "<table border=\"1\" class=\"dataframe\">\n",
       "  <thead>\n",
       "    <tr style=\"text-align: right;\">\n",
       "      <th></th>\n",
       "      <th>sex_ Female</th>\n",
       "      <th>sex_ Male</th>\n",
       "    </tr>\n",
       "  </thead>\n",
       "  <tbody>\n",
       "    <tr>\n",
       "      <th>0</th>\n",
       "      <td>0</td>\n",
       "      <td>1</td>\n",
       "    </tr>\n",
       "    <tr>\n",
       "      <th>1</th>\n",
       "      <td>0</td>\n",
       "      <td>1</td>\n",
       "    </tr>\n",
       "    <tr>\n",
       "      <th>2</th>\n",
       "      <td>0</td>\n",
       "      <td>1</td>\n",
       "    </tr>\n",
       "    <tr>\n",
       "      <th>3</th>\n",
       "      <td>0</td>\n",
       "      <td>1</td>\n",
       "    </tr>\n",
       "    <tr>\n",
       "      <th>4</th>\n",
       "      <td>1</td>\n",
       "      <td>0</td>\n",
       "    </tr>\n",
       "  </tbody>\n",
       "</table>\n",
       "</div>"
      ],
      "text/plain": [
       "   sex_ Female  sex_ Male\n",
       "0            0          1\n",
       "1            0          1\n",
       "2            0          1\n",
       "3            0          1\n",
       "4            1          0"
      ]
     },
     "execution_count": 253,
     "metadata": {},
     "output_type": "execute_result"
    }
   ],
   "source": [
    "pd.get_dummies(df[transform_columns]).head()"
   ]
  },
  {
   "cell_type": "code",
   "execution_count": 254,
   "metadata": {},
   "outputs": [],
   "source": [
    "x = df.copy()\n",
    "\n",
    "x = pd.concat([x.drop(non_num_columns, axis=1), \n",
    "               pd.get_dummies(df[transform_columns])], axis=1,)\n",
    "\n",
    "x[\"salary\"] = enc.fit_transform(df[[\"salary\"]])"
   ]
  },
  {
   "cell_type": "code",
   "execution_count": 255,
   "metadata": {},
   "outputs": [
    {
     "data": {
      "text/html": [
       "<div>\n",
       "<style scoped>\n",
       "    .dataframe tbody tr th:only-of-type {\n",
       "        vertical-align: middle;\n",
       "    }\n",
       "\n",
       "    .dataframe tbody tr th {\n",
       "        vertical-align: top;\n",
       "    }\n",
       "\n",
       "    .dataframe thead th {\n",
       "        text-align: right;\n",
       "    }\n",
       "</style>\n",
       "<table border=\"1\" class=\"dataframe\">\n",
       "  <thead>\n",
       "    <tr style=\"text-align: right;\">\n",
       "      <th></th>\n",
       "      <th>age</th>\n",
       "      <th>fnlwgt</th>\n",
       "      <th>education-num</th>\n",
       "      <th>capital-gain</th>\n",
       "      <th>capital-loss</th>\n",
       "      <th>hours-per-week</th>\n",
       "      <th>salary</th>\n",
       "      <th>sex_ Female</th>\n",
       "      <th>sex_ Male</th>\n",
       "    </tr>\n",
       "  </thead>\n",
       "  <tbody>\n",
       "    <tr>\n",
       "      <th>0</th>\n",
       "      <td>39</td>\n",
       "      <td>77516</td>\n",
       "      <td>13</td>\n",
       "      <td>2174</td>\n",
       "      <td>0</td>\n",
       "      <td>40</td>\n",
       "      <td>0.0</td>\n",
       "      <td>0</td>\n",
       "      <td>1</td>\n",
       "    </tr>\n",
       "    <tr>\n",
       "      <th>1</th>\n",
       "      <td>50</td>\n",
       "      <td>83311</td>\n",
       "      <td>13</td>\n",
       "      <td>0</td>\n",
       "      <td>0</td>\n",
       "      <td>13</td>\n",
       "      <td>0.0</td>\n",
       "      <td>0</td>\n",
       "      <td>1</td>\n",
       "    </tr>\n",
       "    <tr>\n",
       "      <th>2</th>\n",
       "      <td>38</td>\n",
       "      <td>215646</td>\n",
       "      <td>9</td>\n",
       "      <td>0</td>\n",
       "      <td>0</td>\n",
       "      <td>40</td>\n",
       "      <td>0.0</td>\n",
       "      <td>0</td>\n",
       "      <td>1</td>\n",
       "    </tr>\n",
       "    <tr>\n",
       "      <th>3</th>\n",
       "      <td>53</td>\n",
       "      <td>234721</td>\n",
       "      <td>7</td>\n",
       "      <td>0</td>\n",
       "      <td>0</td>\n",
       "      <td>40</td>\n",
       "      <td>0.0</td>\n",
       "      <td>0</td>\n",
       "      <td>1</td>\n",
       "    </tr>\n",
       "    <tr>\n",
       "      <th>4</th>\n",
       "      <td>28</td>\n",
       "      <td>338409</td>\n",
       "      <td>13</td>\n",
       "      <td>0</td>\n",
       "      <td>0</td>\n",
       "      <td>40</td>\n",
       "      <td>0.0</td>\n",
       "      <td>1</td>\n",
       "      <td>0</td>\n",
       "    </tr>\n",
       "  </tbody>\n",
       "</table>\n",
       "</div>"
      ],
      "text/plain": [
       "   age  fnlwgt  education-num  capital-gain  capital-loss  hours-per-week  \\\n",
       "0   39   77516             13          2174             0              40   \n",
       "1   50   83311             13             0             0              13   \n",
       "2   38  215646              9             0             0              40   \n",
       "3   53  234721              7             0             0              40   \n",
       "4   28  338409             13             0             0              40   \n",
       "\n",
       "   salary  sex_ Female  sex_ Male  \n",
       "0     0.0            0          1  \n",
       "1     0.0            0          1  \n",
       "2     0.0            0          1  \n",
       "3     0.0            0          1  \n",
       "4     0.0            1          0  "
      ]
     },
     "execution_count": 255,
     "metadata": {},
     "output_type": "execute_result"
    }
   ],
   "source": [
    "x.head()"
   ]
  },
  {
   "cell_type": "code",
   "execution_count": 256,
   "metadata": {},
   "outputs": [],
   "source": [
    "xt = golden.copy()\n",
    "\n",
    "xt = pd.concat([xt.drop(non_num_columns, axis=1), \n",
    "               pd.get_dummies(golden[transform_columns])], axis=1,)\n",
    "\n",
    "xt[\"salary\"] = enc.fit_transform(golden[[\"salary\"]])"
   ]
  },
  {
   "cell_type": "code",
   "execution_count": 257,
   "metadata": {},
   "outputs": [
    {
     "data": {
      "text/plain": [
       "0.0    12435\n",
       "1.0     3846\n",
       "Name: salary, dtype: int64"
      ]
     },
     "execution_count": 257,
     "metadata": {},
     "output_type": "execute_result"
    }
   ],
   "source": [
    "xt.salary.value_counts()"
   ]
  },
  {
   "cell_type": "code",
   "execution_count": 258,
   "metadata": {},
   "outputs": [
    {
     "data": {
      "text/plain": [
       "[array([' <=50K.', ' >50K.'], dtype=object)]"
      ]
     },
     "execution_count": 258,
     "metadata": {},
     "output_type": "execute_result"
    }
   ],
   "source": [
    "enc.categories_"
   ]
  },
  {
   "cell_type": "code",
   "execution_count": 259,
   "metadata": {},
   "outputs": [],
   "source": [
    "from sklearn.tree import DecisionTreeClassifier\n",
    "from sklearn.ensemble import RandomForestClassifier\n",
    "from sklearn.ensemble import GradientBoostingClassifier"
   ]
  },
  {
   "cell_type": "markdown",
   "metadata": {},
   "source": [
    "#### Choose the model of your preference: DecisionTree or RandomForest"
   ]
  },
  {
   "cell_type": "code",
   "execution_count": 260,
   "metadata": {},
   "outputs": [],
   "source": [
    "model = RandomForestClassifier(criterion='entropy')"
   ]
  },
  {
   "cell_type": "code",
   "execution_count": 261,
   "metadata": {},
   "outputs": [],
   "source": [
    "model = DecisionTreeClassifier(criterion='entropy', max_depth=None)"
   ]
  },
  {
   "cell_type": "code",
   "execution_count": 262,
   "metadata": {},
   "outputs": [
    {
     "data": {
      "text/plain": [
       "DecisionTreeClassifier(criterion='entropy')"
      ]
     },
     "execution_count": 262,
     "metadata": {},
     "output_type": "execute_result"
    }
   ],
   "source": [
    "model.fit(x.drop(['fnlwgt','salary'], axis=1), x.salary)"
   ]
  },
  {
   "cell_type": "code",
   "execution_count": 263,
   "metadata": {},
   "outputs": [
    {
     "data": {
      "text/plain": [
       "8325"
      ]
     },
     "execution_count": 263,
     "metadata": {},
     "output_type": "execute_result"
    }
   ],
   "source": [
    "model.tree_.node_count"
   ]
  },
  {
   "cell_type": "code",
   "execution_count": 264,
   "metadata": {},
   "outputs": [
    {
     "data": {
      "text/plain": [
       "[('age', 0.32427919041012976),\n",
       " ('education-num', 0.1610009656822558),\n",
       " ('capital-gain', 0.2271983856975806),\n",
       " ('capital-loss', 0.07805573609825353),\n",
       " ('hours-per-week', 0.15368234369379719),\n",
       " ('sex_ Female', 0.02133685089073269),\n",
       " ('sex_ Male', 0.03444652752725036)]"
      ]
     },
     "execution_count": 264,
     "metadata": {},
     "output_type": "execute_result"
    }
   ],
   "source": [
    "list(zip(x.drop(['fnlwgt','salary'], axis=1).columns, model.feature_importances_))"
   ]
  },
  {
   "cell_type": "code",
   "execution_count": 265,
   "metadata": {},
   "outputs": [
    {
     "data": {
      "text/plain": [
       "[('age', 0.32427919041012976),\n",
       " ('education-num', 0.1610009656822558),\n",
       " ('capital-gain', 0.2271983856975806),\n",
       " ('capital-loss', 0.07805573609825353),\n",
       " ('hours-per-week', 0.15368234369379719),\n",
       " ('sex_ Female', 0.02133685089073269),\n",
       " ('sex_ Male', 0.03444652752725036)]"
      ]
     },
     "execution_count": 265,
     "metadata": {},
     "output_type": "execute_result"
    }
   ],
   "source": [
    "list(zip(x.drop(['fnlwgt','salary'], axis=1).columns, model.feature_importances_))"
   ]
  },
  {
   "cell_type": "code",
   "execution_count": 266,
   "metadata": {},
   "outputs": [
    {
     "data": {
      "text/html": [
       "<div>\n",
       "<style scoped>\n",
       "    .dataframe tbody tr th:only-of-type {\n",
       "        vertical-align: middle;\n",
       "    }\n",
       "\n",
       "    .dataframe tbody tr th {\n",
       "        vertical-align: top;\n",
       "    }\n",
       "\n",
       "    .dataframe thead th {\n",
       "        text-align: right;\n",
       "    }\n",
       "</style>\n",
       "<table border=\"1\" class=\"dataframe\">\n",
       "  <thead>\n",
       "    <tr style=\"text-align: right;\">\n",
       "      <th></th>\n",
       "      <th>age</th>\n",
       "      <th>education-num</th>\n",
       "      <th>capital-gain</th>\n",
       "      <th>capital-loss</th>\n",
       "      <th>hours-per-week</th>\n",
       "      <th>sex_ Female</th>\n",
       "      <th>sex_ Male</th>\n",
       "    </tr>\n",
       "  </thead>\n",
       "  <tbody>\n",
       "    <tr>\n",
       "      <th>0</th>\n",
       "      <td>39</td>\n",
       "      <td>13</td>\n",
       "      <td>2174</td>\n",
       "      <td>0</td>\n",
       "      <td>40</td>\n",
       "      <td>0</td>\n",
       "      <td>1</td>\n",
       "    </tr>\n",
       "    <tr>\n",
       "      <th>1</th>\n",
       "      <td>50</td>\n",
       "      <td>13</td>\n",
       "      <td>0</td>\n",
       "      <td>0</td>\n",
       "      <td>13</td>\n",
       "      <td>0</td>\n",
       "      <td>1</td>\n",
       "    </tr>\n",
       "    <tr>\n",
       "      <th>2</th>\n",
       "      <td>38</td>\n",
       "      <td>9</td>\n",
       "      <td>0</td>\n",
       "      <td>0</td>\n",
       "      <td>40</td>\n",
       "      <td>0</td>\n",
       "      <td>1</td>\n",
       "    </tr>\n",
       "    <tr>\n",
       "      <th>3</th>\n",
       "      <td>53</td>\n",
       "      <td>7</td>\n",
       "      <td>0</td>\n",
       "      <td>0</td>\n",
       "      <td>40</td>\n",
       "      <td>0</td>\n",
       "      <td>1</td>\n",
       "    </tr>\n",
       "    <tr>\n",
       "      <th>4</th>\n",
       "      <td>28</td>\n",
       "      <td>13</td>\n",
       "      <td>0</td>\n",
       "      <td>0</td>\n",
       "      <td>40</td>\n",
       "      <td>1</td>\n",
       "      <td>0</td>\n",
       "    </tr>\n",
       "  </tbody>\n",
       "</table>\n",
       "</div>"
      ],
      "text/plain": [
       "   age  education-num  capital-gain  capital-loss  hours-per-week  \\\n",
       "0   39             13          2174             0              40   \n",
       "1   50             13             0             0              13   \n",
       "2   38              9             0             0              40   \n",
       "3   53              7             0             0              40   \n",
       "4   28             13             0             0              40   \n",
       "\n",
       "   sex_ Female  sex_ Male  \n",
       "0            0          1  \n",
       "1            0          1  \n",
       "2            0          1  \n",
       "3            0          1  \n",
       "4            1          0  "
      ]
     },
     "execution_count": 266,
     "metadata": {},
     "output_type": "execute_result"
    }
   ],
   "source": [
    "x.drop(['fnlwgt','salary'], axis=1).head()"
   ]
  },
  {
   "cell_type": "code",
   "execution_count": 267,
   "metadata": {},
   "outputs": [
    {
     "data": {
      "text/plain": [
       "set()"
      ]
     },
     "execution_count": 267,
     "metadata": {},
     "output_type": "execute_result"
    }
   ],
   "source": [
    "set(x.columns) - set(xt.columns)"
   ]
  },
  {
   "cell_type": "code",
   "execution_count": 268,
   "metadata": {},
   "outputs": [
    {
     "data": {
      "text/plain": [
       "['age',\n",
       " 'fnlwgt',\n",
       " 'education-num',\n",
       " 'capital-gain',\n",
       " 'capital-loss',\n",
       " 'hours-per-week',\n",
       " 'sex_ Female',\n",
       " 'sex_ Male']"
      ]
     },
     "execution_count": 268,
     "metadata": {},
     "output_type": "execute_result"
    }
   ],
   "source": [
    "list(x.drop('salary', axis=1).columns)"
   ]
  },
  {
   "cell_type": "code",
   "execution_count": 269,
   "metadata": {},
   "outputs": [],
   "source": [
    "predictions = model.predict(xt.drop(['fnlwgt','salary'], axis=1))\n",
    "predictionsx = model.predict(x.drop(['fnlwgt','salary'], axis=1))"
   ]
  },
  {
   "cell_type": "code",
   "execution_count": 270,
   "metadata": {},
   "outputs": [],
   "source": [
    "from sklearn.metrics import (\n",
    "    accuracy_score, \n",
    "    classification_report, \n",
    "    confusion_matrix, auc, roc_curve\n",
    ")"
   ]
  },
  {
   "cell_type": "code",
   "execution_count": 271,
   "metadata": {},
   "outputs": [
    {
     "data": {
      "text/plain": [
       "0.8208955223880597"
      ]
     },
     "execution_count": 271,
     "metadata": {},
     "output_type": "execute_result"
    }
   ],
   "source": [
    "accuracy_score(xt.salary, predictions)"
   ]
  },
  {
   "cell_type": "code",
   "execution_count": 272,
   "metadata": {},
   "outputs": [
    {
     "data": {
      "text/plain": [
       "array([[11459,   976],\n",
       "       [ 1940,  1906]], dtype=int64)"
      ]
     },
     "execution_count": 272,
     "metadata": {},
     "output_type": "execute_result"
    }
   ],
   "source": [
    "confusion_matrix(xt.salary, predictions)"
   ]
  },
  {
   "cell_type": "code",
   "execution_count": 273,
   "metadata": {},
   "outputs": [
    {
     "name": "stdout",
     "output_type": "stream",
     "text": [
      "              precision    recall  f1-score   support\n",
      "\n",
      "         0.0       0.86      0.92      0.89     12435\n",
      "         1.0       0.66      0.50      0.57      3846\n",
      "\n",
      "    accuracy                           0.82     16281\n",
      "   macro avg       0.76      0.71      0.73     16281\n",
      "weighted avg       0.81      0.82      0.81     16281\n",
      "\n"
     ]
    }
   ],
   "source": [
    "print(classification_report(xt.salary, predictions))"
   ]
  },
  {
   "cell_type": "code",
   "execution_count": 274,
   "metadata": {},
   "outputs": [
    {
     "data": {
      "text/plain": [
       "0.8955806025613464"
      ]
     },
     "execution_count": 274,
     "metadata": {},
     "output_type": "execute_result"
    }
   ],
   "source": [
    "accuracy_score(x.salary, predictionsx)"
   ]
  },
  {
   "cell_type": "code",
   "execution_count": 275,
   "metadata": {},
   "outputs": [
    {
     "data": {
      "text/plain": [
       "array([[24097,   623],\n",
       "       [ 2777,  5064]], dtype=int64)"
      ]
     },
     "execution_count": 275,
     "metadata": {},
     "output_type": "execute_result"
    }
   ],
   "source": [
    "confusion_matrix(x.salary, predictionsx)"
   ]
  },
  {
   "cell_type": "code",
   "execution_count": 276,
   "metadata": {},
   "outputs": [
    {
     "name": "stdout",
     "output_type": "stream",
     "text": [
      "              precision    recall  f1-score   support\n",
      "\n",
      "         0.0       0.90      0.97      0.93     24720\n",
      "         1.0       0.89      0.65      0.75      7841\n",
      "\n",
      "    accuracy                           0.90     32561\n",
      "   macro avg       0.89      0.81      0.84     32561\n",
      "weighted avg       0.90      0.90      0.89     32561\n",
      "\n"
     ]
    }
   ],
   "source": [
    "print(classification_report(x.salary, predictionsx))"
   ]
  },
  {
   "cell_type": "markdown",
   "metadata": {},
   "source": [
    "# For the following use the above `adult` dataset. Start with only numerical features/columns.  "
   ]
  },
  {
   "cell_type": "markdown",
   "metadata": {},
   "source": [
    "# 1. Show the RandomForest outperforms the DecisionTree for a fixed `max_depth` by training using the train set and `precision`, `recall`, `f1` on golden-test set."
   ]
  },
  {
   "cell_type": "code",
   "execution_count": 277,
   "metadata": {},
   "outputs": [],
   "source": [
    "model_dt = DecisionTreeClassifier(criterion='entropy', max_depth=9)\n",
    "model_rf = RandomForestClassifier(criterion='entropy', max_depth=9)"
   ]
  },
  {
   "cell_type": "code",
   "execution_count": 278,
   "metadata": {},
   "outputs": [
    {
     "data": {
      "text/plain": [
       "RandomForestClassifier(criterion='entropy', max_depth=9)"
      ]
     },
     "execution_count": 278,
     "metadata": {},
     "output_type": "execute_result"
    }
   ],
   "source": [
    "model_dt.fit(x.drop(['fnlwgt','salary'], axis=1), x.salary)\n",
    "model_rf.fit(x.drop(['fnlwgt','salary'], axis=1), x.salary)"
   ]
  },
  {
   "cell_type": "code",
   "execution_count": 279,
   "metadata": {},
   "outputs": [],
   "source": [
    "prediction_dt = model_dt.predict(xt.drop(['fnlwgt','salary'], axis=1))\n",
    "predictions_rf = model_rf.predict(xt.drop(['fnlwgt','salary'], axis=1))"
   ]
  },
  {
   "cell_type": "code",
   "execution_count": 280,
   "metadata": {},
   "outputs": [
    {
     "name": "stdout",
     "output_type": "stream",
     "text": [
      "Classification Report for Decision Tree with max_depth = 8:\n",
      "              precision    recall  f1-score   support\n",
      "\n",
      "         0.0       0.84      0.97      0.90     12435\n",
      "         1.0       0.79      0.42      0.55      3846\n",
      "\n",
      "    accuracy                           0.84     16281\n",
      "   macro avg       0.82      0.69      0.73     16281\n",
      "weighted avg       0.83      0.84      0.82     16281\n",
      "\n"
     ]
    }
   ],
   "source": [
    "print('Classification Report for Decision Tree with max_depth = 8:')\n",
    "print(classification_report(xt.salary, prediction_dt))"
   ]
  },
  {
   "cell_type": "code",
   "execution_count": 281,
   "metadata": {},
   "outputs": [
    {
     "name": "stdout",
     "output_type": "stream",
     "text": [
      "Classification Report for Random Forest with max_depth = 8:\n",
      "              precision    recall  f1-score   support\n",
      "\n",
      "         0.0       0.85      0.96      0.90     12435\n",
      "         1.0       0.77      0.47      0.58      3846\n",
      "\n",
      "    accuracy                           0.84     16281\n",
      "   macro avg       0.81      0.71      0.74     16281\n",
      "weighted avg       0.83      0.84      0.83     16281\n",
      "\n"
     ]
    }
   ],
   "source": [
    "print('Classification Report for Random Forest with max_depth = 8:')\n",
    "print(classification_report(xt.salary, predictions_rf))"
   ]
  },
  {
   "cell_type": "code",
   "execution_count": 282,
   "metadata": {},
   "outputs": [
    {
     "data": {
      "text/html": [
       "<div>\n",
       "<style scoped>\n",
       "    .dataframe tbody tr th:only-of-type {\n",
       "        vertical-align: middle;\n",
       "    }\n",
       "\n",
       "    .dataframe tbody tr th {\n",
       "        vertical-align: top;\n",
       "    }\n",
       "\n",
       "    .dataframe thead th {\n",
       "        text-align: right;\n",
       "    }\n",
       "</style>\n",
       "<table border=\"1\" class=\"dataframe\">\n",
       "  <thead>\n",
       "    <tr style=\"text-align: right;\">\n",
       "      <th></th>\n",
       "      <th></th>\n",
       "      <th></th>\n",
       "      <th>only-numerical-columns</th>\n",
       "    </tr>\n",
       "  </thead>\n",
       "  <tbody>\n",
       "    <tr>\n",
       "      <th rowspan=\"6\" valign=\"top\">Decision_Tree</th>\n",
       "      <th rowspan=\"3\" valign=\"top\">0.0</th>\n",
       "      <th>precision</th>\n",
       "      <td>0.844023</td>\n",
       "    </tr>\n",
       "    <tr>\n",
       "      <th>recall</th>\n",
       "      <td>0.965179</td>\n",
       "    </tr>\n",
       "    <tr>\n",
       "      <th>f1-score</th>\n",
       "      <td>0.900544</td>\n",
       "    </tr>\n",
       "    <tr>\n",
       "      <th rowspan=\"3\" valign=\"top\">1.0</th>\n",
       "      <th>precision</th>\n",
       "      <td>0.789908</td>\n",
       "    </tr>\n",
       "    <tr>\n",
       "      <th>recall</th>\n",
       "      <td>0.423297</td>\n",
       "    </tr>\n",
       "    <tr>\n",
       "      <th>f1-score</th>\n",
       "      <td>0.551210</td>\n",
       "    </tr>\n",
       "    <tr>\n",
       "      <th rowspan=\"6\" valign=\"top\">Random_Forest</th>\n",
       "      <th rowspan=\"3\" valign=\"top\">0.0</th>\n",
       "      <th>precision</th>\n",
       "      <td>0.853437</td>\n",
       "    </tr>\n",
       "    <tr>\n",
       "      <th>recall</th>\n",
       "      <td>0.957620</td>\n",
       "    </tr>\n",
       "    <tr>\n",
       "      <th>f1-score</th>\n",
       "      <td>0.902531</td>\n",
       "    </tr>\n",
       "    <tr>\n",
       "      <th rowspan=\"3\" valign=\"top\">1.0</th>\n",
       "      <th>precision</th>\n",
       "      <td>0.773625</td>\n",
       "    </tr>\n",
       "    <tr>\n",
       "      <th>recall</th>\n",
       "      <td>0.468279</td>\n",
       "    </tr>\n",
       "    <tr>\n",
       "      <th>f1-score</th>\n",
       "      <td>0.583414</td>\n",
       "    </tr>\n",
       "  </tbody>\n",
       "</table>\n",
       "</div>"
      ],
      "text/plain": [
       "                             only-numerical-columns\n",
       "Decision_Tree 0.0 precision                0.844023\n",
       "                  recall                   0.965179\n",
       "                  f1-score                 0.900544\n",
       "              1.0 precision                0.789908\n",
       "                  recall                   0.423297\n",
       "                  f1-score                 0.551210\n",
       "Random_Forest 0.0 precision                0.853437\n",
       "                  recall                   0.957620\n",
       "                  f1-score                 0.902531\n",
       "              1.0 precision                0.773625\n",
       "                  recall                   0.468279\n",
       "                  f1-score                 0.583414"
      ]
     },
     "execution_count": 282,
     "metadata": {},
     "output_type": "execute_result"
    }
   ],
   "source": [
    "cr_dt = classification_report(xt.salary, prediction_dt, output_dict=True)\n",
    "cr_rf = classification_report(xt.salary, predictions_rf, output_dict=True)\n",
    "\n",
    "idxs = [\n",
    "    np.array(['Decision_Tree']*6 + ['Random_Forest']*6),\n",
    "    np.array([\"0.0\"]*3 + [\"1.0\"]*3 + [\"0.0\"]*3 + [\"1.0\"]*3),\n",
    "    np.array(['precision', 'recall', 'f1-score']*4),\n",
    "]\n",
    "\n",
    "model_comparisons = pd.DataFrame({'only-numerical-columns':[cr_dt['0.0']['precision'], cr_dt['0.0']['recall'], cr_dt['0.0']['f1-score'],\n",
    "                                                       cr_dt['1.0']['precision'], cr_dt['1.0']['recall'], cr_dt['1.0']['f1-score'],\n",
    "                                                       cr_rf['0.0']['precision'], cr_rf['0.0']['recall'], cr_rf['0.0']['f1-score'],\n",
    "                                                       cr_rf['1.0']['precision'], cr_rf['1.0']['recall'], cr_rf['1.0']['f1-score']]},\n",
    "                                index = idxs)\n",
    "model_comparisons"
   ]
  },
  {
   "cell_type": "markdown",
   "metadata": {},
   "source": [
    "# 2. For RandomForest or DecisionTree and using the `adult` dataset, systematically add new columns, one by one, that are non-numerical but converted using the feature-extraction techniques we learned. Show [`precision`, `recall`, `f1`] for each additional feature added."
   ]
  },
  {
   "cell_type": "code",
   "execution_count": 283,
   "metadata": {},
   "outputs": [],
   "source": [
    "from sklearn.preprocessing import OneHotEncoder, LabelEncoder"
   ]
  },
  {
   "cell_type": "code",
   "execution_count": 284,
   "metadata": {},
   "outputs": [],
   "source": [
    "non_num_columns.remove('sex')"
   ]
  },
  {
   "cell_type": "code",
   "execution_count": 285,
   "metadata": {},
   "outputs": [
    {
     "data": {
      "text/plain": [
       "['workclass',\n",
       " 'education',\n",
       " 'marital-status',\n",
       " 'occupation',\n",
       " 'relationship',\n",
       " 'race',\n",
       " 'native-country']"
      ]
     },
     "execution_count": 285,
     "metadata": {},
     "output_type": "execute_result"
    }
   ],
   "source": [
    "non_num_columns"
   ]
  },
  {
   "cell_type": "code",
   "execution_count": 286,
   "metadata": {
    "scrolled": true
   },
   "outputs": [],
   "source": [
    "test_x = x.copy()\n",
    "test_xt = xt.copy()\n",
    "mc_test = model_comparisons.copy()\n",
    "for (col_name, col_data) in df[non_num_columns].iteritems():\n",
    "    # transform new col\n",
    "    label_encoder = LabelEncoder()\n",
    "    new_col_x = label_encoder.fit_transform(col_data)\n",
    "    new_col_xt = label_encoder.fit_transform(golden[col_name])\n",
    "    one_hot = OneHotEncoder()\n",
    "    col_x_to_add = one_hot.fit_transform(new_col_x.reshape(-1,1)).toarray()\n",
    "    col_xt_to_add = one_hot.fit_transform(new_col_xt.reshape(-1,1)).toarray()\n",
    "    \n",
    "    # add transformed col to training and test data\n",
    "    cols_x_to_add = pd.DataFrame(col_x_to_add, columns=col_data.unique())\n",
    "    cols_xt_to_add = pd.DataFrame(col_xt_to_add, columns=golden[col_name].unique())\n",
    "    test_x = pd.concat([test_x, cols_x_to_add], axis=1)\n",
    "    test_xt = pd.concat([test_xt, cols_xt_to_add], axis=1)\n",
    "    \n",
    "    # check if all columns are being added to training set\n",
    "    training_levels_missed = set(cols_x_to_add.columns) - set(cols_xt_to_add)\n",
    "    if len(training_levels_missed) == 0:\n",
    "        pass\n",
    "    else:\n",
    "        for val in training_levels_missed:\n",
    "            test_xt[val] = 0\n",
    "    \n",
    "    # re-arrange columns alphabetically to ensure test data is predicted correctly\n",
    "    test_x = test_x.sort_index(axis=1, ascending=True)\n",
    "    test_xt = test_xt.sort_index(axis=1, ascending=True)\n",
    "    \n",
    "    # train Decision Tree and Random Forest models\n",
    "    model_dt = DecisionTreeClassifier(criterion='entropy', max_depth=10)\n",
    "    model_rf = RandomForestClassifier(criterion='entropy', max_depth=10)\n",
    "    model_dt.fit(test_x.drop(['fnlwgt','salary'], axis=1), test_x.salary)\n",
    "    model_rf.fit(test_x.drop(['fnlwgt','salary'], axis=1), test_x.salary)\n",
    "    \n",
    "    # predict classes for test data\n",
    "    prediction_dt = model_dt.predict(test_xt.drop(['fnlwgt','salary'], axis=1))\n",
    "    predictions_rf = model_rf.predict(test_xt.drop(['fnlwgt','salary'], axis=1))\n",
    "    \n",
    "    # show Classification Report for Decision Tree and Random Forest models\n",
    "    cr_dt = classification_report(test_xt.salary, prediction_dt, output_dict = True)\n",
    "    cr_rf = classification_report(test_xt.salary, predictions_rf, output_dict = True)\n",
    "    \n",
    "    # instead of showing Classification Reports for each (it gets really messy), add to model_comparisons (created above)\n",
    "    mc_test[col_name + '_added'] = [cr_dt['0.0']['precision'], cr_dt['0.0']['recall'], cr_dt['0.0']['f1-score'],\n",
    "                                    cr_dt['1.0']['precision'], cr_dt['1.0']['recall'], cr_dt['1.0']['f1-score'],\n",
    "                                    cr_rf['0.0']['precision'], cr_rf['0.0']['recall'], cr_rf['0.0']['f1-score'],\n",
    "                                    cr_rf['1.0']['precision'], cr_rf['1.0']['recall'], cr_rf['1.0']['f1-score']]"
   ]
  },
  {
   "cell_type": "code",
   "execution_count": 287,
   "metadata": {},
   "outputs": [
    {
     "data": {
      "text/html": [
       "<div>\n",
       "<style scoped>\n",
       "    .dataframe tbody tr th:only-of-type {\n",
       "        vertical-align: middle;\n",
       "    }\n",
       "\n",
       "    .dataframe tbody tr th {\n",
       "        vertical-align: top;\n",
       "    }\n",
       "\n",
       "    .dataframe thead th {\n",
       "        text-align: right;\n",
       "    }\n",
       "</style>\n",
       "<table border=\"1\" class=\"dataframe\">\n",
       "  <thead>\n",
       "    <tr style=\"text-align: right;\">\n",
       "      <th></th>\n",
       "      <th></th>\n",
       "      <th></th>\n",
       "      <th>only-numerical-columns</th>\n",
       "      <th>workclass_added</th>\n",
       "      <th>education_added</th>\n",
       "      <th>marital-status_added</th>\n",
       "      <th>occupation_added</th>\n",
       "      <th>relationship_added</th>\n",
       "      <th>race_added</th>\n",
       "      <th>native-country_added</th>\n",
       "    </tr>\n",
       "  </thead>\n",
       "  <tbody>\n",
       "    <tr>\n",
       "      <th rowspan=\"6\" valign=\"top\">Decision_Tree</th>\n",
       "      <th rowspan=\"3\" valign=\"top\">0.0</th>\n",
       "      <th>precision</th>\n",
       "      <td>0.844023</td>\n",
       "      <td>0.849964</td>\n",
       "      <td>0.850691</td>\n",
       "      <td>0.804615</td>\n",
       "      <td>0.805260</td>\n",
       "      <td>0.799843</td>\n",
       "      <td>0.805311</td>\n",
       "      <td>0.805583</td>\n",
       "    </tr>\n",
       "    <tr>\n",
       "      <th>recall</th>\n",
       "      <td>0.965179</td>\n",
       "      <td>0.957620</td>\n",
       "      <td>0.955770</td>\n",
       "      <td>0.989867</td>\n",
       "      <td>0.987294</td>\n",
       "      <td>0.985927</td>\n",
       "      <td>0.987616</td>\n",
       "      <td>0.986329</td>\n",
       "    </tr>\n",
       "    <tr>\n",
       "      <th>f1-score</th>\n",
       "      <td>0.900544</td>\n",
       "      <td>0.900586</td>\n",
       "      <td>0.900174</td>\n",
       "      <td>0.887679</td>\n",
       "      <td>0.887034</td>\n",
       "      <td>0.883190</td>\n",
       "      <td>0.887195</td>\n",
       "      <td>0.886840</td>\n",
       "    </tr>\n",
       "    <tr>\n",
       "      <th rowspan=\"3\" valign=\"top\">1.0</th>\n",
       "      <th>precision</th>\n",
       "      <td>0.789908</td>\n",
       "      <td>0.767944</td>\n",
       "      <td>0.761905</td>\n",
       "      <td>0.871821</td>\n",
       "      <td>0.847343</td>\n",
       "      <td>0.816369</td>\n",
       "      <td>0.850630</td>\n",
       "      <td>0.839015</td>\n",
       "    </tr>\n",
       "    <tr>\n",
       "      <th>recall</th>\n",
       "      <td>0.423297</td>\n",
       "      <td>0.453458</td>\n",
       "      <td>0.457618</td>\n",
       "      <td>0.222829</td>\n",
       "      <td>0.228029</td>\n",
       "      <td>0.202288</td>\n",
       "      <td>0.228029</td>\n",
       "      <td>0.230369</td>\n",
       "    </tr>\n",
       "    <tr>\n",
       "      <th>f1-score</th>\n",
       "      <td>0.551210</td>\n",
       "      <td>0.570214</td>\n",
       "      <td>0.571800</td>\n",
       "      <td>0.354939</td>\n",
       "      <td>0.359353</td>\n",
       "      <td>0.324234</td>\n",
       "      <td>0.359647</td>\n",
       "      <td>0.361485</td>\n",
       "    </tr>\n",
       "    <tr>\n",
       "      <th rowspan=\"6\" valign=\"top\">Random_Forest</th>\n",
       "      <th rowspan=\"3\" valign=\"top\">0.0</th>\n",
       "      <th>precision</th>\n",
       "      <td>0.853437</td>\n",
       "      <td>0.846772</td>\n",
       "      <td>0.840639</td>\n",
       "      <td>0.797582</td>\n",
       "      <td>0.797636</td>\n",
       "      <td>0.794846</td>\n",
       "      <td>0.793273</td>\n",
       "      <td>0.794388</td>\n",
       "    </tr>\n",
       "    <tr>\n",
       "      <th>recall</th>\n",
       "      <td>0.957620</td>\n",
       "      <td>0.965259</td>\n",
       "      <td>0.968476</td>\n",
       "      <td>0.997185</td>\n",
       "      <td>0.998472</td>\n",
       "      <td>0.999517</td>\n",
       "      <td>0.999517</td>\n",
       "      <td>0.999517</td>\n",
       "    </tr>\n",
       "    <tr>\n",
       "      <th>f1-score</th>\n",
       "      <td>0.902531</td>\n",
       "      <td>0.902142</td>\n",
       "      <td>0.900041</td>\n",
       "      <td>0.886284</td>\n",
       "      <td>0.886825</td>\n",
       "      <td>0.885509</td>\n",
       "      <td>0.884532</td>\n",
       "      <td>0.885225</td>\n",
       "    </tr>\n",
       "    <tr>\n",
       "      <th rowspan=\"3\" valign=\"top\">1.0</th>\n",
       "      <th>precision</th>\n",
       "      <td>0.773625</td>\n",
       "      <td>0.794872</td>\n",
       "      <td>0.799488</td>\n",
       "      <td>0.952316</td>\n",
       "      <td>0.973427</td>\n",
       "      <td>0.990683</td>\n",
       "      <td>0.990212</td>\n",
       "      <td>0.990551</td>\n",
       "    </tr>\n",
       "    <tr>\n",
       "      <th>recall</th>\n",
       "      <td>0.468279</td>\n",
       "      <td>0.435257</td>\n",
       "      <td>0.406396</td>\n",
       "      <td>0.181747</td>\n",
       "      <td>0.180967</td>\n",
       "      <td>0.165887</td>\n",
       "      <td>0.157826</td>\n",
       "      <td>0.163547</td>\n",
       "    </tr>\n",
       "    <tr>\n",
       "      <th>f1-score</th>\n",
       "      <td>0.583414</td>\n",
       "      <td>0.562500</td>\n",
       "      <td>0.538873</td>\n",
       "      <td>0.305240</td>\n",
       "      <td>0.305196</td>\n",
       "      <td>0.284187</td>\n",
       "      <td>0.272258</td>\n",
       "      <td>0.280741</td>\n",
       "    </tr>\n",
       "  </tbody>\n",
       "</table>\n",
       "</div>"
      ],
      "text/plain": [
       "                             only-numerical-columns  workclass_added  \\\n",
       "Decision_Tree 0.0 precision                0.844023         0.849964   \n",
       "                  recall                   0.965179         0.957620   \n",
       "                  f1-score                 0.900544         0.900586   \n",
       "              1.0 precision                0.789908         0.767944   \n",
       "                  recall                   0.423297         0.453458   \n",
       "                  f1-score                 0.551210         0.570214   \n",
       "Random_Forest 0.0 precision                0.853437         0.846772   \n",
       "                  recall                   0.957620         0.965259   \n",
       "                  f1-score                 0.902531         0.902142   \n",
       "              1.0 precision                0.773625         0.794872   \n",
       "                  recall                   0.468279         0.435257   \n",
       "                  f1-score                 0.583414         0.562500   \n",
       "\n",
       "                             education_added  marital-status_added  \\\n",
       "Decision_Tree 0.0 precision         0.850691              0.804615   \n",
       "                  recall            0.955770              0.989867   \n",
       "                  f1-score          0.900174              0.887679   \n",
       "              1.0 precision         0.761905              0.871821   \n",
       "                  recall            0.457618              0.222829   \n",
       "                  f1-score          0.571800              0.354939   \n",
       "Random_Forest 0.0 precision         0.840639              0.797582   \n",
       "                  recall            0.968476              0.997185   \n",
       "                  f1-score          0.900041              0.886284   \n",
       "              1.0 precision         0.799488              0.952316   \n",
       "                  recall            0.406396              0.181747   \n",
       "                  f1-score          0.538873              0.305240   \n",
       "\n",
       "                             occupation_added  relationship_added  race_added  \\\n",
       "Decision_Tree 0.0 precision          0.805260            0.799843    0.805311   \n",
       "                  recall             0.987294            0.985927    0.987616   \n",
       "                  f1-score           0.887034            0.883190    0.887195   \n",
       "              1.0 precision          0.847343            0.816369    0.850630   \n",
       "                  recall             0.228029            0.202288    0.228029   \n",
       "                  f1-score           0.359353            0.324234    0.359647   \n",
       "Random_Forest 0.0 precision          0.797636            0.794846    0.793273   \n",
       "                  recall             0.998472            0.999517    0.999517   \n",
       "                  f1-score           0.886825            0.885509    0.884532   \n",
       "              1.0 precision          0.973427            0.990683    0.990212   \n",
       "                  recall             0.180967            0.165887    0.157826   \n",
       "                  f1-score           0.305196            0.284187    0.272258   \n",
       "\n",
       "                             native-country_added  \n",
       "Decision_Tree 0.0 precision              0.805583  \n",
       "                  recall                 0.986329  \n",
       "                  f1-score               0.886840  \n",
       "              1.0 precision              0.839015  \n",
       "                  recall                 0.230369  \n",
       "                  f1-score               0.361485  \n",
       "Random_Forest 0.0 precision              0.794388  \n",
       "                  recall                 0.999517  \n",
       "                  f1-score               0.885225  \n",
       "              1.0 precision              0.990551  \n",
       "                  recall                 0.163547  \n",
       "                  f1-score               0.280741  "
      ]
     },
     "execution_count": 287,
     "metadata": {},
     "output_type": "execute_result"
    }
   ],
   "source": [
    "mc_test"
   ]
  },
  {
   "cell_type": "markdown",
   "metadata": {},
   "source": [
    "# 3. Optional: Using gridSearch find the most optimal parameters for your model\n",
    "Warning: this can be computationally intensive and may take some time.\n",
    "- https://scikit-learn.org/stable/modules/generated/sklearn.model_selection.GridSearchCV.html\n",
    "- https://scikit-learn.org/stable/modules/grid_search.html"
   ]
  },
  {
   "cell_type": "code",
   "execution_count": null,
   "metadata": {},
   "outputs": [],
   "source": []
  },
  {
   "cell_type": "code",
   "execution_count": null,
   "metadata": {},
   "outputs": [],
   "source": []
  }
 ],
 "metadata": {
  "kernelspec": {
   "display_name": "Python 3 (ipykernel)",
   "language": "python",
   "name": "python3"
  },
  "language_info": {
   "codemirror_mode": {
    "name": "ipython",
    "version": 3
   },
   "file_extension": ".py",
   "mimetype": "text/x-python",
   "name": "python",
   "nbconvert_exporter": "python",
   "pygments_lexer": "ipython3",
   "version": "3.9.7"
  }
 },
 "nbformat": 4,
 "nbformat_minor": 2
}
