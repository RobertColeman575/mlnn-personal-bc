{
 "cells": [
  {
   "cell_type": "markdown",
   "metadata": {},
   "source": [
    "# Neural Networks image recognition - MultiLayer Perceptron\n",
    "Use both MLNN for the following problem.\n",
    "\n",
    "1. Add random noise (see below on `size parameter` on [`np.random.normal`](https://numpy.org/doc/stable/reference/random/generated/numpy.random.normal.html)) to the images in training and testing. **Make sure each image gets a different noise feature added to it. Inspect by printing out several images. Note - the `size` parameter should match the data. **\n",
    "2. Compare the `accuracy` of train and val after N epochs for MLNN with and without noise. \n",
    "3. Vary the amount of noise by changing the `scale` parameter in `np.random.normal` by a factor. Use `.1, .5, 1.0, 2.0, 4.0` for the `scale` and keep track of the `accuracy` for training and validation and plot these results."
   ]
  },
  {
   "cell_type": "markdown",
   "metadata": {},
   "source": [
    "Bo Coleman"
   ]
  },
  {
   "cell_type": "markdown",
   "metadata": {},
   "source": [
    "# `np.random.normal`\n",
    "\n",
    "## Parameters\n",
    "\n",
    "### loc\n",
    "\n",
    "Mean (“centre”) of the distribution.\n",
    "\n",
    "### scale\n",
    "\n",
    "Standard deviation (spread or “width”) of the distribution. Must be non-negative.\n",
    "\n",
    "### size\n",
    "\n",
    "Output shape. If the given shape is, e.g., (m, n, k), then m * n * k samples are drawn. If size is None (default), a single value is returned if loc and scale are both scalars. Otherwise, np.broadcast(loc, scale).size samples are drawn."
   ]
  },
  {
   "cell_type": "code",
   "execution_count": 10,
   "metadata": {},
   "outputs": [
    {
     "data": {
      "text/plain": [
       "array([1.05796992, 2.00405881])"
      ]
     },
     "execution_count": 10,
     "metadata": {},
     "output_type": "execute_result"
    }
   ],
   "source": [
    "np.random.normal([1, 2], [2, 0.01])"
   ]
  },
  {
   "cell_type": "markdown",
   "metadata": {},
   "source": [
    "# Neural Networks - Image Recognition "
   ]
  },
  {
   "cell_type": "code",
   "execution_count": 6,
   "metadata": {},
   "outputs": [],
   "source": [
    "import tensorflow as tf\n",
    "import keras\n",
    "from keras.datasets import mnist\n",
    "from keras.models import Sequential\n",
    "from tensorflow.keras.optimizers import RMSprop\n",
    "from keras.layers import Dense, Dropout, Flatten\n",
    "from keras.layers import Conv2D, MaxPooling2D\n",
    "from keras import backend\n",
    "import numpy as np\n",
    "import pandas as pd"
   ]
  },
  {
   "cell_type": "code",
   "execution_count": 19,
   "metadata": {},
   "outputs": [],
   "source": [
    "import matplotlib.pyplot as  plt\n",
    "%matplotlib inline"
   ]
  },
  {
   "cell_type": "markdown",
   "metadata": {},
   "source": [
    "## Multi Layer Neural Network\n",
    "Trains a simple deep NN on the MNIST dataset.\n",
    "Gets to 98.40% test accuracy after 20 epochs\n",
    "(there is *a lot* of margin for parameter tuning)."
   ]
  },
  {
   "cell_type": "code",
   "execution_count": 12,
   "metadata": {},
   "outputs": [
    {
     "name": "stdout",
     "output_type": "stream",
     "text": [
      "60000 train samples\n",
      "10000 test samples\n"
     ]
    }
   ],
   "source": [
    "# the data, shuffled and split between train and test sets\n",
    "(x_train, y_train), (x_test, y_test) = mnist.load_data()\n",
    "\n",
    "x_train = x_train.reshape(60000, 784)\n",
    "x_test = x_test.reshape(10000, 784)\n",
    "x_train = x_train.astype('float32')\n",
    "x_test = x_test.astype('float32')\n",
    "x_train /= 255\n",
    "x_test /= 255\n",
    "print(x_train.shape[0], 'train samples')\n",
    "print(x_test.shape[0], 'test samples')"
   ]
  },
  {
   "cell_type": "code",
   "execution_count": 17,
   "metadata": {},
   "outputs": [
    {
     "data": {
      "text/plain": [
       "(60000, 784)"
      ]
     },
     "execution_count": 17,
     "metadata": {},
     "output_type": "execute_result"
    }
   ],
   "source": [
    "x_train.shape"
   ]
  },
  {
   "cell_type": "markdown",
   "metadata": {},
   "source": [
    "Before running the model, here is an example of what the noise will look like (this is confirmation each image will get it's own unique amount of noise)"
   ]
  },
  {
   "cell_type": "code",
   "execution_count": 61,
   "metadata": {},
   "outputs": [],
   "source": [
    "x_train_new = x_train + np.random.normal(scale = 0.5, size=x_train.shape)"
   ]
  },
  {
   "cell_type": "markdown",
   "metadata": {},
   "source": [
    "Inspect the first 5 pixels of the first 5 images:"
   ]
  },
  {
   "cell_type": "code",
   "execution_count": 64,
   "metadata": {},
   "outputs": [
    {
     "name": "stdout",
     "output_type": "stream",
     "text": [
      "Here is image number 1 without noise\n",
      "[0. 0. 0. 0. 0.]\n",
      "Here is image number 1 with noise\n",
      "[-0.63253032  0.06594516  0.07467569  0.45863424 -0.2230083 ]\n",
      "Here is image number 2 without noise\n",
      "[0. 0. 0. 0. 0.]\n",
      "Here is image number 2 with noise\n",
      "[ 0.40462212  1.03932422  0.70531609  0.02309339 -0.63023883]\n",
      "Here is image number 3 without noise\n",
      "[0. 0. 0. 0. 0.]\n",
      "Here is image number 3 with noise\n",
      "[ 0.39054925 -0.55922951 -0.41940463 -0.95465995  0.18317708]\n",
      "Here is image number 4 without noise\n",
      "[0. 0. 0. 0. 0.]\n",
      "Here is image number 4 with noise\n",
      "[ 0.32141281  0.34156669 -0.30452076  0.11304963  0.71996049]\n",
      "Here is image number 5 without noise\n",
      "[0. 0. 0. 0. 0.]\n",
      "Here is image number 5 with noise\n",
      "[-0.99003327  0.91702262 -0.15371132  0.18430228  0.27856797]\n"
     ]
    }
   ],
   "source": [
    "for image_num in range(5):\n",
    "    print('Here is image number ' + str(image_num + 1) + ' without noise')\n",
    "    print(x_train[image_num, :5])\n",
    "    print('Here is image number ' + str(image_num + 1) + ' with noise')\n",
    "    print(x_train_new[image_num, :5])"
   ]
  },
  {
   "cell_type": "markdown",
   "metadata": {},
   "source": [
    "Run a NN for each scale value:"
   ]
  },
  {
   "cell_type": "code",
   "execution_count": 42,
   "metadata": {},
   "outputs": [
    {
     "name": "stdout",
     "output_type": "stream",
     "text": [
      "Model: \"sequential_1\"\n",
      "_________________________________________________________________\n",
      " Layer (type)                Output Shape              Param #   \n",
      "=================================================================\n",
      " dense_3 (Dense)             (None, 512)               401920    \n",
      "                                                                 \n",
      " dropout_2 (Dropout)         (None, 512)               0         \n",
      "                                                                 \n",
      " dense_4 (Dense)             (None, 512)               262656    \n",
      "                                                                 \n",
      " dropout_3 (Dropout)         (None, 512)               0         \n",
      "                                                                 \n",
      " dense_5 (Dense)             (None, 10)                5130      \n",
      "                                                                 \n",
      "=================================================================\n",
      "Total params: 669,706\n",
      "Trainable params: 669,706\n",
      "Non-trainable params: 0\n",
      "_________________________________________________________________\n",
      "Epoch 1/20\n",
      "469/469 [==============================] - 6s 11ms/step - loss: 0.2620 - accuracy: 0.9195 - val_loss: 0.1323 - val_accuracy: 0.9593\n",
      "Epoch 2/20\n",
      "469/469 [==============================] - 5s 11ms/step - loss: 0.0987 - accuracy: 0.9697 - val_loss: 0.0996 - val_accuracy: 0.9712\n",
      "Epoch 3/20\n",
      "469/469 [==============================] - 5s 11ms/step - loss: 0.0622 - accuracy: 0.9809 - val_loss: 0.0934 - val_accuracy: 0.9751\n",
      "Epoch 4/20\n",
      "469/469 [==============================] - 6s 13ms/step - loss: 0.0423 - accuracy: 0.9862 - val_loss: 0.0987 - val_accuracy: 0.9731\n",
      "Epoch 5/20\n",
      "469/469 [==============================] - 7s 14ms/step - loss: 0.0302 - accuracy: 0.9904 - val_loss: 0.1097 - val_accuracy: 0.9740\n",
      "Epoch 6/20\n",
      "469/469 [==============================] - 7s 15ms/step - loss: 0.0237 - accuracy: 0.9923 - val_loss: 0.1225 - val_accuracy: 0.9745\n",
      "Epoch 7/20\n",
      "469/469 [==============================] - 7s 16ms/step - loss: 0.0203 - accuracy: 0.9936 - val_loss: 0.1342 - val_accuracy: 0.9757\n",
      "Epoch 8/20\n",
      "469/469 [==============================] - 7s 14ms/step - loss: 0.0170 - accuracy: 0.9944 - val_loss: 0.1390 - val_accuracy: 0.9775\n",
      "Epoch 9/20\n",
      "469/469 [==============================] - 6s 12ms/step - loss: 0.0171 - accuracy: 0.9949 - val_loss: 0.1485 - val_accuracy: 0.9772\n",
      "Epoch 10/20\n",
      "469/469 [==============================] - 6s 13ms/step - loss: 0.0140 - accuracy: 0.9956 - val_loss: 0.1474 - val_accuracy: 0.9769\n",
      "Epoch 11/20\n",
      "469/469 [==============================] - 6s 12ms/step - loss: 0.0131 - accuracy: 0.9959 - val_loss: 0.1717 - val_accuracy: 0.9749\n",
      "Epoch 12/20\n",
      "469/469 [==============================] - 6s 13ms/step - loss: 0.0110 - accuracy: 0.9968 - val_loss: 0.1802 - val_accuracy: 0.9763\n",
      "Epoch 13/20\n",
      "469/469 [==============================] - 6s 13ms/step - loss: 0.0105 - accuracy: 0.9970 - val_loss: 0.1902 - val_accuracy: 0.9772\n",
      "Epoch 14/20\n",
      "469/469 [==============================] - 6s 12ms/step - loss: 0.0117 - accuracy: 0.9967 - val_loss: 0.2122 - val_accuracy: 0.9754\n",
      "Epoch 15/20\n",
      "469/469 [==============================] - 6s 12ms/step - loss: 0.0111 - accuracy: 0.9968 - val_loss: 0.1930 - val_accuracy: 0.9768\n",
      "Epoch 16/20\n",
      "469/469 [==============================] - 6s 12ms/step - loss: 0.0101 - accuracy: 0.9971 - val_loss: 0.2043 - val_accuracy: 0.9773\n",
      "Epoch 17/20\n",
      "469/469 [==============================] - 6s 13ms/step - loss: 0.0100 - accuracy: 0.9974 - val_loss: 0.2061 - val_accuracy: 0.9785\n",
      "Epoch 18/20\n",
      "469/469 [==============================] - 6s 13ms/step - loss: 0.0103 - accuracy: 0.9972 - val_loss: 0.2077 - val_accuracy: 0.9763\n",
      "Epoch 19/20\n",
      "469/469 [==============================] - 6s 12ms/step - loss: 0.0081 - accuracy: 0.9979 - val_loss: 0.2332 - val_accuracy: 0.9758\n",
      "Epoch 20/20\n",
      "469/469 [==============================] - 6s 12ms/step - loss: 0.0075 - accuracy: 0.9979 - val_loss: 0.2318 - val_accuracy: 0.9758\n",
      "Model: \"sequential_2\"\n",
      "_________________________________________________________________\n",
      " Layer (type)                Output Shape              Param #   \n",
      "=================================================================\n",
      " dense_6 (Dense)             (None, 512)               401920    \n",
      "                                                                 \n",
      " dropout_4 (Dropout)         (None, 512)               0         \n",
      "                                                                 \n",
      " dense_7 (Dense)             (None, 512)               262656    \n",
      "                                                                 \n",
      " dropout_5 (Dropout)         (None, 512)               0         \n",
      "                                                                 \n",
      " dense_8 (Dense)             (None, 10)                5130      \n",
      "                                                                 \n",
      "=================================================================\n",
      "Total params: 669,706\n",
      "Trainable params: 669,706\n",
      "Non-trainable params: 0\n",
      "_________________________________________________________________\n",
      "Epoch 1/20\n",
      "469/469 [==============================] - 6s 12ms/step - loss: 0.5503 - accuracy: 0.8189 - val_loss: 0.3341 - val_accuracy: 0.8917\n",
      "Epoch 2/20\n",
      "469/469 [==============================] - 6s 12ms/step - loss: 0.2422 - accuracy: 0.9231 - val_loss: 0.2769 - val_accuracy: 0.9177\n",
      "Epoch 3/20\n",
      "469/469 [==============================] - 6s 12ms/step - loss: 0.1309 - accuracy: 0.9578 - val_loss: 0.3140 - val_accuracy: 0.9184\n",
      "Epoch 4/20\n",
      "469/469 [==============================] - 6s 12ms/step - loss: 0.0738 - accuracy: 0.9749 - val_loss: 0.3833 - val_accuracy: 0.9172\n",
      "Epoch 5/20\n",
      "469/469 [==============================] - 6s 13ms/step - loss: 0.0518 - accuracy: 0.9824 - val_loss: 0.4224 - val_accuracy: 0.9166\n",
      "Epoch 6/20\n",
      "469/469 [==============================] - 6s 13ms/step - loss: 0.0401 - accuracy: 0.9861 - val_loss: 0.4584 - val_accuracy: 0.9194\n",
      "Epoch 7/20\n",
      "469/469 [==============================] - 6s 13ms/step - loss: 0.0366 - accuracy: 0.9880 - val_loss: 0.5022 - val_accuracy: 0.9161\n",
      "Epoch 8/20\n",
      "469/469 [==============================] - 6s 13ms/step - loss: 0.0316 - accuracy: 0.9900 - val_loss: 0.5585 - val_accuracy: 0.9175\n",
      "Epoch 9/20\n",
      "469/469 [==============================] - 6s 13ms/step - loss: 0.0305 - accuracy: 0.9908 - val_loss: 0.5805 - val_accuracy: 0.9153\n",
      "Epoch 10/20\n",
      "469/469 [==============================] - 6s 13ms/step - loss: 0.0297 - accuracy: 0.9912 - val_loss: 0.6136 - val_accuracy: 0.9158\n",
      "Epoch 11/20\n",
      "469/469 [==============================] - 6s 13ms/step - loss: 0.0261 - accuracy: 0.9920 - val_loss: 0.6210 - val_accuracy: 0.9197\n",
      "Epoch 12/20\n",
      "469/469 [==============================] - 6s 13ms/step - loss: 0.0231 - accuracy: 0.9927 - val_loss: 0.6761 - val_accuracy: 0.9174\n",
      "Epoch 13/20\n",
      "469/469 [==============================] - 6s 13ms/step - loss: 0.0237 - accuracy: 0.9929 - val_loss: 0.6784 - val_accuracy: 0.9185\n",
      "Epoch 14/20\n",
      "469/469 [==============================] - 6s 13ms/step - loss: 0.0232 - accuracy: 0.9930 - val_loss: 0.6952 - val_accuracy: 0.9174\n",
      "Epoch 15/20\n",
      "469/469 [==============================] - 6s 13ms/step - loss: 0.0221 - accuracy: 0.9933 - val_loss: 0.7480 - val_accuracy: 0.9184\n",
      "Epoch 16/20\n",
      "469/469 [==============================] - 6s 13ms/step - loss: 0.0227 - accuracy: 0.9937 - val_loss: 0.8246 - val_accuracy: 0.9159\n",
      "Epoch 17/20\n",
      "469/469 [==============================] - 6s 13ms/step - loss: 0.0206 - accuracy: 0.9941 - val_loss: 0.8033 - val_accuracy: 0.9173\n",
      "Epoch 18/20\n",
      "469/469 [==============================] - 6s 13ms/step - loss: 0.0181 - accuracy: 0.9950 - val_loss: 0.8649 - val_accuracy: 0.9168\n",
      "Epoch 19/20\n",
      "469/469 [==============================] - 6s 13ms/step - loss: 0.0185 - accuracy: 0.9949 - val_loss: 0.8667 - val_accuracy: 0.9173\n",
      "Epoch 20/20\n",
      "469/469 [==============================] - 6s 13ms/step - loss: 0.0212 - accuracy: 0.9944 - val_loss: 0.9157 - val_accuracy: 0.9113\n",
      "Model: \"sequential_3\"\n",
      "_________________________________________________________________\n",
      " Layer (type)                Output Shape              Param #   \n",
      "=================================================================\n",
      " dense_9 (Dense)             (None, 512)               401920    \n"
     ]
    },
    {
     "name": "stdout",
     "output_type": "stream",
     "text": [
      "                                                                 \n",
      " dropout_6 (Dropout)         (None, 512)               0         \n",
      "                                                                 \n",
      " dense_10 (Dense)            (None, 512)               262656    \n",
      "                                                                 \n",
      " dropout_7 (Dropout)         (None, 512)               0         \n",
      "                                                                 \n",
      " dense_11 (Dense)            (None, 10)                5130      \n",
      "                                                                 \n",
      "=================================================================\n",
      "Total params: 669,706\n",
      "Trainable params: 669,706\n",
      "Non-trainable params: 0\n",
      "_________________________________________________________________\n",
      "Epoch 1/20\n",
      "469/469 [==============================] - 6s 12ms/step - loss: 1.0941 - accuracy: 0.6294 - val_loss: 0.7845 - val_accuracy: 0.7360\n",
      "Epoch 2/20\n",
      "469/469 [==============================] - 6s 13ms/step - loss: 0.6767 - accuracy: 0.7725 - val_loss: 0.7041 - val_accuracy: 0.7649\n",
      "Epoch 3/20\n",
      "469/469 [==============================] - 6s 13ms/step - loss: 0.4612 - accuracy: 0.8447 - val_loss: 0.7338 - val_accuracy: 0.7671\n",
      "Epoch 4/20\n",
      "469/469 [==============================] - 6s 13ms/step - loss: 0.3102 - accuracy: 0.8947 - val_loss: 0.8390 - val_accuracy: 0.7604\n",
      "Epoch 5/20\n",
      "469/469 [==============================] - 6s 13ms/step - loss: 0.2157 - accuracy: 0.9258 - val_loss: 0.9531 - val_accuracy: 0.7564\n",
      "Epoch 6/20\n",
      "469/469 [==============================] - 6s 13ms/step - loss: 0.1758 - accuracy: 0.9392 - val_loss: 1.0689 - val_accuracy: 0.7555\n",
      "Epoch 7/20\n",
      "469/469 [==============================] - 6s 13ms/step - loss: 0.1512 - accuracy: 0.9485 - val_loss: 1.1347 - val_accuracy: 0.7553\n",
      "Epoch 8/20\n",
      "469/469 [==============================] - 6s 13ms/step - loss: 0.1309 - accuracy: 0.9555 - val_loss: 1.2154 - val_accuracy: 0.7571\n",
      "Epoch 9/20\n",
      "469/469 [==============================] - 6s 13ms/step - loss: 0.1187 - accuracy: 0.9606 - val_loss: 1.3252 - val_accuracy: 0.7565\n",
      "Epoch 10/20\n",
      "469/469 [==============================] - 6s 13ms/step - loss: 0.1119 - accuracy: 0.9628 - val_loss: 1.3870 - val_accuracy: 0.7584\n",
      "Epoch 11/20\n",
      "469/469 [==============================] - 6s 13ms/step - loss: 0.1062 - accuracy: 0.9661 - val_loss: 1.4590 - val_accuracy: 0.7525\n",
      "Epoch 12/20\n",
      "469/469 [==============================] - 6s 13ms/step - loss: 0.0992 - accuracy: 0.9683 - val_loss: 1.5018 - val_accuracy: 0.7556\n",
      "Epoch 13/20\n",
      "469/469 [==============================] - 6s 13ms/step - loss: 0.0925 - accuracy: 0.9701 - val_loss: 1.5890 - val_accuracy: 0.7598\n",
      "Epoch 14/20\n",
      "469/469 [==============================] - 6s 13ms/step - loss: 0.0917 - accuracy: 0.9720 - val_loss: 1.6095 - val_accuracy: 0.7557\n",
      "Epoch 15/20\n",
      "469/469 [==============================] - 6s 13ms/step - loss: 0.0868 - accuracy: 0.9740 - val_loss: 1.6968 - val_accuracy: 0.7504\n",
      "Epoch 16/20\n",
      "469/469 [==============================] - 6s 13ms/step - loss: 0.0831 - accuracy: 0.9741 - val_loss: 1.7667 - val_accuracy: 0.7518\n",
      "Epoch 17/20\n",
      "469/469 [==============================] - 6s 13ms/step - loss: 0.0825 - accuracy: 0.9754 - val_loss: 1.7973 - val_accuracy: 0.7530\n",
      "Epoch 18/20\n",
      "469/469 [==============================] - 6s 13ms/step - loss: 0.0840 - accuracy: 0.9752 - val_loss: 1.8422 - val_accuracy: 0.7572\n",
      "Epoch 19/20\n",
      "469/469 [==============================] - 6s 13ms/step - loss: 0.0736 - accuracy: 0.9772 - val_loss: 1.9071 - val_accuracy: 0.7503\n",
      "Epoch 20/20\n",
      "469/469 [==============================] - 6s 13ms/step - loss: 0.0777 - accuracy: 0.9769 - val_loss: 1.9585 - val_accuracy: 0.7559\n",
      "Model: \"sequential_4\"\n",
      "_________________________________________________________________\n",
      " Layer (type)                Output Shape              Param #   \n",
      "=================================================================\n",
      " dense_12 (Dense)            (None, 512)               401920    \n",
      "                                                                 \n",
      " dropout_8 (Dropout)         (None, 512)               0         \n",
      "                                                                 \n",
      " dense_13 (Dense)            (None, 512)               262656    \n",
      "                                                                 \n",
      " dropout_9 (Dropout)         (None, 512)               0         \n",
      "                                                                 \n",
      " dense_14 (Dense)            (None, 10)                5130      \n",
      "                                                                 \n",
      "=================================================================\n",
      "Total params: 669,706\n",
      "Trainable params: 669,706\n",
      "Non-trainable params: 0\n",
      "_________________________________________________________________\n",
      "Epoch 1/20\n",
      "469/469 [==============================] - 7s 13ms/step - loss: 1.8820 - accuracy: 0.3531 - val_loss: 1.5966 - val_accuracy: 0.4493\n",
      "Epoch 2/20\n",
      "469/469 [==============================] - 6s 13ms/step - loss: 1.4709 - accuracy: 0.4958 - val_loss: 1.5776 - val_accuracy: 0.4501\n",
      "Epoch 3/20\n",
      "469/469 [==============================] - 6s 13ms/step - loss: 1.2692 - accuracy: 0.5608 - val_loss: 1.5981 - val_accuracy: 0.4550\n",
      "Epoch 4/20\n",
      "469/469 [==============================] - 6s 13ms/step - loss: 1.0804 - accuracy: 0.6255 - val_loss: 1.6858 - val_accuracy: 0.4429\n",
      "Epoch 5/20\n",
      "469/469 [==============================] - 6s 13ms/step - loss: 0.9091 - accuracy: 0.6861 - val_loss: 1.7823 - val_accuracy: 0.4250\n",
      "Epoch 6/20\n",
      "469/469 [==============================] - 6s 14ms/step - loss: 0.7814 - accuracy: 0.7265 - val_loss: 1.9168 - val_accuracy: 0.4278\n",
      "Epoch 7/20\n",
      "469/469 [==============================] - 6s 13ms/step - loss: 0.6877 - accuracy: 0.7605 - val_loss: 2.0475 - val_accuracy: 0.4244\n",
      "Epoch 8/20\n",
      "469/469 [==============================] - 6s 13ms/step - loss: 0.6168 - accuracy: 0.7882 - val_loss: 2.1417 - val_accuracy: 0.4287\n",
      "Epoch 9/20\n",
      "469/469 [==============================] - 6s 13ms/step - loss: 0.5562 - accuracy: 0.8072 - val_loss: 2.2882 - val_accuracy: 0.4186\n",
      "Epoch 10/20\n",
      "469/469 [==============================] - 6s 13ms/step - loss: 0.5145 - accuracy: 0.8223 - val_loss: 2.4165 - val_accuracy: 0.4153\n",
      "Epoch 11/20\n",
      "469/469 [==============================] - 6s 13ms/step - loss: 0.4767 - accuracy: 0.8380 - val_loss: 2.4757 - val_accuracy: 0.4176\n",
      "Epoch 12/20\n",
      "469/469 [==============================] - 6s 13ms/step - loss: 0.4475 - accuracy: 0.8485 - val_loss: 2.6212 - val_accuracy: 0.4161\n",
      "Epoch 13/20\n",
      "469/469 [==============================] - 6s 13ms/step - loss: 0.4244 - accuracy: 0.8588 - val_loss: 2.7529 - val_accuracy: 0.4109\n",
      "Epoch 14/20\n",
      "469/469 [==============================] - 6s 13ms/step - loss: 0.4072 - accuracy: 0.8638 - val_loss: 2.7799 - val_accuracy: 0.4143\n",
      "Epoch 15/20\n",
      "469/469 [==============================] - 6s 13ms/step - loss: 0.3932 - accuracy: 0.8699 - val_loss: 2.8913 - val_accuracy: 0.4115\n",
      "Epoch 16/20\n",
      "469/469 [==============================] - 7s 14ms/step - loss: 0.3831 - accuracy: 0.8758 - val_loss: 2.9747 - val_accuracy: 0.4103\n",
      "Epoch 17/20\n",
      "469/469 [==============================] - 6s 14ms/step - loss: 0.3653 - accuracy: 0.8826 - val_loss: 3.0660 - val_accuracy: 0.4083\n",
      "Epoch 18/20\n",
      "469/469 [==============================] - 6s 13ms/step - loss: 0.3576 - accuracy: 0.8836 - val_loss: 3.0945 - val_accuracy: 0.4071\n",
      "Epoch 19/20\n",
      "469/469 [==============================] - 6s 13ms/step - loss: 0.3447 - accuracy: 0.8893 - val_loss: 3.1729 - val_accuracy: 0.4066\n",
      "Epoch 20/20\n",
      "469/469 [==============================] - 6s 13ms/step - loss: 0.3416 - accuracy: 0.8920 - val_loss: 3.1889 - val_accuracy: 0.4059\n",
      "Model: \"sequential_5\"\n",
      "_________________________________________________________________\n",
      " Layer (type)                Output Shape              Param #   \n",
      "=================================================================\n",
      " dense_15 (Dense)            (None, 512)               401920    \n",
      "                                                                 \n",
      " dropout_10 (Dropout)        (None, 512)               0         \n",
      "                                                                 \n",
      " dense_16 (Dense)            (None, 512)               262656    \n",
      "                                                                 \n"
     ]
    },
    {
     "name": "stdout",
     "output_type": "stream",
     "text": [
      " dropout_11 (Dropout)        (None, 512)               0         \n",
      "                                                                 \n",
      " dense_17 (Dense)            (None, 10)                5130      \n",
      "                                                                 \n",
      "=================================================================\n",
      "Total params: 669,706\n",
      "Trainable params: 669,706\n",
      "Non-trainable params: 0\n",
      "_________________________________________________________________\n",
      "Epoch 1/20\n",
      "469/469 [==============================] - 7s 13ms/step - loss: 2.4072 - accuracy: 0.1577 - val_loss: 2.1476 - val_accuracy: 0.2194\n",
      "Epoch 2/20\n",
      "469/469 [==============================] - 6s 13ms/step - loss: 2.0859 - accuracy: 0.2514 - val_loss: 2.1339 - val_accuracy: 0.2265\n",
      "Epoch 3/20\n",
      "469/469 [==============================] - 6s 13ms/step - loss: 1.9513 - accuracy: 0.3048 - val_loss: 2.1484 - val_accuracy: 0.2309\n",
      "Epoch 4/20\n",
      "469/469 [==============================] - 6s 13ms/step - loss: 1.8279 - accuracy: 0.3532 - val_loss: 2.2007 - val_accuracy: 0.2250\n",
      "Epoch 5/20\n",
      "469/469 [==============================] - 6s 13ms/step - loss: 1.7070 - accuracy: 0.3962 - val_loss: 2.2612 - val_accuracy: 0.2226\n",
      "Epoch 6/20\n",
      "469/469 [==============================] - 6s 13ms/step - loss: 1.6043 - accuracy: 0.4371 - val_loss: 2.3020 - val_accuracy: 0.2112\n",
      "Epoch 7/20\n",
      "469/469 [==============================] - 6s 13ms/step - loss: 1.5173 - accuracy: 0.4711 - val_loss: 2.3618 - val_accuracy: 0.2011\n",
      "Epoch 8/20\n",
      "469/469 [==============================] - 6s 13ms/step - loss: 1.4379 - accuracy: 0.5005 - val_loss: 2.4361 - val_accuracy: 0.2071\n",
      "Epoch 9/20\n",
      "469/469 [==============================] - 6s 13ms/step - loss: 1.3704 - accuracy: 0.5256 - val_loss: 2.4708 - val_accuracy: 0.2065\n",
      "Epoch 10/20\n",
      "469/469 [==============================] - 6s 13ms/step - loss: 1.3113 - accuracy: 0.5450 - val_loss: 2.5431 - val_accuracy: 0.2015\n",
      "Epoch 11/20\n",
      "469/469 [==============================] - 6s 14ms/step - loss: 1.2622 - accuracy: 0.5634 - val_loss: 2.6198 - val_accuracy: 0.1889\n",
      "Epoch 12/20\n",
      "469/469 [==============================] - 6s 13ms/step - loss: 1.2181 - accuracy: 0.5818 - val_loss: 2.6479 - val_accuracy: 0.2000\n",
      "Epoch 13/20\n",
      "469/469 [==============================] - 6s 13ms/step - loss: 1.1797 - accuracy: 0.5939 - val_loss: 2.7149 - val_accuracy: 0.1964\n",
      "Epoch 14/20\n",
      "469/469 [==============================] - 6s 13ms/step - loss: 1.1389 - accuracy: 0.6107 - val_loss: 2.7722 - val_accuracy: 0.1930\n",
      "Epoch 15/20\n",
      "469/469 [==============================] - 6s 13ms/step - loss: 1.1129 - accuracy: 0.6214 - val_loss: 2.8555 - val_accuracy: 0.1983\n",
      "Epoch 16/20\n",
      "469/469 [==============================] - 6s 13ms/step - loss: 1.0751 - accuracy: 0.6360 - val_loss: 2.8992 - val_accuracy: 0.1962\n",
      "Epoch 17/20\n",
      "469/469 [==============================] - 6s 13ms/step - loss: 1.0601 - accuracy: 0.6410 - val_loss: 2.9141 - val_accuracy: 0.1914\n",
      "Epoch 18/20\n",
      "469/469 [==============================] - 6s 13ms/step - loss: 1.0331 - accuracy: 0.6534 - val_loss: 2.9612 - val_accuracy: 0.1971\n",
      "Epoch 19/20\n",
      "469/469 [==============================] - 6s 13ms/step - loss: 1.0062 - accuracy: 0.6631 - val_loss: 3.0056 - val_accuracy: 0.1897\n",
      "Epoch 20/20\n",
      "469/469 [==============================] - 6s 13ms/step - loss: 0.9878 - accuracy: 0.6679 - val_loss: 3.0560 - val_accuracy: 0.1898\n"
     ]
    }
   ],
   "source": [
    "scales_to_test = [.1, .5, 1.0, 2.0, 4.0]\n",
    "train_accuracies = []\n",
    "test_accuracies = []\n",
    "\n",
    "batch_size = 128\n",
    "num_classes = 10\n",
    "epochs = 20\n",
    "\n",
    "# convert class vectors to binary class matrices\n",
    "y_train = tf.keras.utils.to_categorical(y_train, num_classes)\n",
    "y_test = tf.keras.utils.to_categorical(y_test, num_classes)\n",
    "\n",
    "for scale in scales_to_test:\n",
    "    # add some random noise to both x_train and x_test\n",
    "    x_train_new = x_train + np.random.normal(scale = scale, size=x_train.shape)\n",
    "    x_test_new = x_test + np.random.normal(scale = scale, size=x_test.shape)\n",
    "\n",
    "    model = Sequential()\n",
    "    model.add(Dense(512, activation='relu', input_shape=(784,)))\n",
    "    model.add(Dropout(0.2))\n",
    "    model.add(Dense(512, activation='relu'))\n",
    "    model.add(Dropout(0.2))\n",
    "    model.add(Dense(10, activation='softmax'))\n",
    "\n",
    "    model.summary()\n",
    "\n",
    "    model.compile(loss='categorical_crossentropy',\n",
    "                  optimizer=RMSprop(),\n",
    "                  metrics=['accuracy'])\n",
    "\n",
    "    history = model.fit(x_train_new, y_train,\n",
    "                        batch_size=batch_size,\n",
    "                        epochs=epochs,\n",
    "                        verbose=1,\n",
    "                        validation_data=(x_test_new, y_test))\n",
    "    score = model.evaluate(x_test_new, y_test, verbose=0)\n",
    "    \n",
    "    train_accuracies.append(history.history['accuracy'][-1])\n",
    "    test_accuracies.append(score[1])"
   ]
  },
  {
   "cell_type": "code",
   "execution_count": 48,
   "metadata": {},
   "outputs": [
    {
     "data": {
      "image/png": "[encoded data removed]",
      "text/plain": [
       "<Figure size 432x288 with 1 Axes>"
      ]
     },
     "metadata": {
      "needs_background": "light"
     },
     "output_type": "display_data"
    }
   ],
   "source": [
    "# graph of Train and Test Accuracies for each scale (of noise)\n",
    "plt.figure()\n",
    "plt.plot(scales_to_test, train_accuracies, label = 'Train Data')\n",
    "plt.plot(scales_to_test, test_accuracies, label = 'Test Data')\n",
    "plt.xlabel('Scale (standard deviation of noise)')\n",
    "plt.ylabel('Model Accuracy')\n",
    "plt.title('NN Model Accuracy on Image Classification with added noise')\n",
    "plt.grid(True)\n",
    "plt.legend()\n",
    "plt.show()"
   ]
  },
  {
   "cell_type": "markdown",
   "metadata": {},
   "source": [
    "The higher the value of scale in the np.random.normal() function, the more noise, and subsequently, the worse the performance of the NN on Image Classification.  Comparing the NN without noisy data and with scale = 0.1:"
   ]
  },
  {
   "cell_type": "code",
   "execution_count": 54,
   "metadata": {},
   "outputs": [
    {
     "name": "stdout",
     "output_type": "stream",
     "text": [
      "Model: \"sequential_6\"\n",
      "_________________________________________________________________\n",
      " Layer (type)                Output Shape              Param #   \n",
      "=================================================================\n",
      " dense_18 (Dense)            (None, 512)               401920    \n",
      "                                                                 \n",
      " dropout_12 (Dropout)        (None, 512)               0         \n",
      "                                                                 \n",
      " dense_19 (Dense)            (None, 512)               262656    \n",
      "                                                                 \n",
      " dropout_13 (Dropout)        (None, 512)               0         \n",
      "                                                                 \n",
      " dense_20 (Dense)            (None, 10)                5130      \n",
      "                                                                 \n",
      "=================================================================\n",
      "Total params: 669,706\n",
      "Trainable params: 669,706\n",
      "Non-trainable params: 0\n",
      "_________________________________________________________________\n",
      "Epoch 1/20\n",
      "469/469 [==============================] - 6s 11ms/step - loss: 0.2412 - accuracy: 0.9249 - val_loss: 0.1211 - val_accuracy: 0.9624\n",
      "Epoch 2/20\n",
      "469/469 [==============================] - 5s 11ms/step - loss: 0.1013 - accuracy: 0.9690 - val_loss: 0.1122 - val_accuracy: 0.9675\n",
      "Epoch 3/20\n",
      "469/469 [==============================] - 5s 12ms/step - loss: 0.0740 - accuracy: 0.9775 - val_loss: 0.0756 - val_accuracy: 0.9791\n",
      "Epoch 4/20\n",
      "469/469 [==============================] - 5s 11ms/step - loss: 0.0610 - accuracy: 0.9818 - val_loss: 0.0787 - val_accuracy: 0.9788\n",
      "Epoch 5/20\n",
      "469/469 [==============================] - 6s 12ms/step - loss: 0.0506 - accuracy: 0.9847 - val_loss: 0.0673 - val_accuracy: 0.9825\n",
      "Epoch 6/20\n",
      "469/469 [==============================] - 6s 13ms/step - loss: 0.0433 - accuracy: 0.9874 - val_loss: 0.0749 - val_accuracy: 0.9819\n",
      "Epoch 7/20\n",
      "469/469 [==============================] - 6s 13ms/step - loss: 0.0389 - accuracy: 0.9886 - val_loss: 0.0841 - val_accuracy: 0.9795\n",
      "Epoch 8/20\n",
      "469/469 [==============================] - 6s 13ms/step - loss: 0.0349 - accuracy: 0.9897 - val_loss: 0.0815 - val_accuracy: 0.9813\n",
      "Epoch 9/20\n",
      "469/469 [==============================] - 6s 13ms/step - loss: 0.0312 - accuracy: 0.9910 - val_loss: 0.0835 - val_accuracy: 0.9844\n",
      "Epoch 10/20\n",
      "469/469 [==============================] - 6s 13ms/step - loss: 0.0316 - accuracy: 0.9912 - val_loss: 0.0897 - val_accuracy: 0.9834\n",
      "Epoch 11/20\n",
      "469/469 [==============================] - 6s 13ms/step - loss: 0.0256 - accuracy: 0.9928 - val_loss: 0.0834 - val_accuracy: 0.9848\n",
      "Epoch 12/20\n",
      "469/469 [==============================] - 6s 13ms/step - loss: 0.0251 - accuracy: 0.9925 - val_loss: 0.0949 - val_accuracy: 0.9807\n",
      "Epoch 13/20\n",
      "469/469 [==============================] - 6s 13ms/step - loss: 0.0239 - accuracy: 0.9931 - val_loss: 0.0935 - val_accuracy: 0.9841\n",
      "Epoch 14/20\n",
      "469/469 [==============================] - 6s 13ms/step - loss: 0.0221 - accuracy: 0.9937 - val_loss: 0.1011 - val_accuracy: 0.9842\n",
      "Epoch 15/20\n",
      "469/469 [==============================] - 6s 13ms/step - loss: 0.0199 - accuracy: 0.9939 - val_loss: 0.1130 - val_accuracy: 0.9837\n",
      "Epoch 16/20\n",
      "469/469 [==============================] - 6s 12ms/step - loss: 0.0214 - accuracy: 0.9944 - val_loss: 0.1293 - val_accuracy: 0.9819\n",
      "Epoch 17/20\n",
      "469/469 [==============================] - 6s 13ms/step - loss: 0.0197 - accuracy: 0.9944 - val_loss: 0.1221 - val_accuracy: 0.9849\n",
      "Epoch 18/20\n",
      "469/469 [==============================] - 6s 13ms/step - loss: 0.0206 - accuracy: 0.9948 - val_loss: 0.1145 - val_accuracy: 0.9841\n",
      "Epoch 19/20\n",
      "469/469 [==============================] - 6s 13ms/step - loss: 0.0193 - accuracy: 0.9949 - val_loss: 0.1308 - val_accuracy: 0.9824\n",
      "Epoch 20/20\n",
      "469/469 [==============================] - 6s 13ms/step - loss: 0.0203 - accuracy: 0.9949 - val_loss: 0.1321 - val_accuracy: 0.9835\n"
     ]
    }
   ],
   "source": [
    "# model without noise\n",
    "model = Sequential()\n",
    "model.add(Dense(512, activation='relu', input_shape=(784,)))\n",
    "model.add(Dropout(0.2))\n",
    "model.add(Dense(512, activation='relu'))\n",
    "model.add(Dropout(0.2))\n",
    "model.add(Dense(10, activation='softmax'))\n",
    "\n",
    "model.summary()\n",
    "\n",
    "model.compile(loss='categorical_crossentropy',\n",
    "              optimizer=RMSprop(),\n",
    "              metrics=['accuracy'])\n",
    "\n",
    "history = model.fit(x_train, y_train,\n",
    "                    batch_size=batch_size,\n",
    "                    epochs=epochs,\n",
    "                    verbose=1,\n",
    "                    validation_data=(x_test, y_test))\n",
    "score = model.evaluate(x_test, y_test, verbose=0)\n",
    "train_accuracy_no_noise = history.history['accuracy'][-1]\n",
    "test_accuracy_no_noise = score[1]"
   ]
  },
  {
   "cell_type": "code",
   "execution_count": 65,
   "metadata": {},
   "outputs": [
    {
     "name": "stdout",
     "output_type": "stream",
     "text": [
      "The train accuracy without noise is: 0.9949\n",
      "The train accuracy with noise (scale = 0.1) is: 0.9979\n",
      "The test accuracy without noise is: 0.9835\n",
      "The test accuracy with noise (scale = 0.1) is: 0.9758\n"
     ]
    }
   ],
   "source": [
    "print('The train accuracy without noise is: ' + str(round(train_accuracy_no_noise, 4)))\n",
    "print('The train accuracy with noise (scale = 0.1) is: ' + str(round(train_accuracies[0], 4)))\n",
    "print('The test accuracy without noise is: ' + str(round(test_accuracy_no_noise, 4)))\n",
    "print('The test accuracy with noise (scale = 0.1) is: ' + str(round(test_accuracies[0], 4)))"
   ]
  }
 ],
 "metadata": {
  "kernelspec": {
   "display_name": "Python 3 (ipykernel)",
   "language": "python",
   "name": "python3"
  },
  "language_info": {
   "codemirror_mode": {
    "name": "ipython",
    "version": 3
   },
   "file_extension": ".py",
   "mimetype": "text/x-python",
   "name": "python",
   "nbconvert_exporter": "python",
   "pygments_lexer": "ipython3",
   "version": "3.9.7"
  }
 },
 "nbformat": 4,
 "nbformat_minor": 2
}
