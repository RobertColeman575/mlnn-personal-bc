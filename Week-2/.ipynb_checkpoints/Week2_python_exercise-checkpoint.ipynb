{
 "cells": [
  {
   "cell_type": "code",
   "execution_count": 2,
   "id": "ff1967b5",
   "metadata": {},
   "outputs": [],
   "source": [
    "class Store:\n",
    "    '''\n",
    "    This Class is a Store\n",
    "    '''\n",
    "    def __init__(self, inventory):\n",
    "        self.inventory = inventory\n",
    "    def show_inventory(self):\n",
    "        for key, value in self.inventory.items():\n",
    "            print(key + ' = ' + str(value))\n",
    "    def message_customer(self, customer):\n",
    "        for x in customer.preferred_fruit:\n",
    "            if x in list(self.inventory.keys()):\n",
    "                print(customer.formal_greeting() + ', the store has ' + x + 's and they cost ' + str(self.inventory[x]))\n",
    "            else:\n",
    "                pass"
   ]
  },
  {
   "cell_type": "code",
   "execution_count": 3,
   "id": "b02b73e1",
   "metadata": {},
   "outputs": [],
   "source": [
    "class Customer:\n",
    "    '''\n",
    "    This Class is a Customer\n",
    "    '''\n",
    "    def __init__(self, first_name, last_name, is_male, money, fruit, preferred_fruit):\n",
    "        self.first_name = first_name\n",
    "        self.last_name = last_name\n",
    "        self.is_male = is_male\n",
    "        self.money = money\n",
    "        self.fruit = fruit\n",
    "        self.preferred_fruit = preferred_fruit\n",
    "    def formal_greeting(self):\n",
    "        pronoun = 'Mr.' if self.is_male == 1 else 'Ms.'\n",
    "        greeting = ' '.join([pronoun, self.first_name, self.last_name])\n",
    "        return greeting\n",
    "    def buy_fruit(self, store, fruit_name, fruit_amt):\n",
    "        try:\n",
    "            money_left_over = self.money - store.inventory[fruit_name]*fruit_amt\n",
    "        except Exception:\n",
    "            print('Store does not contain this fruit.')\n",
    "        \n",
    "        try:\n",
    "            if money_left_over < 0:\n",
    "                raise Exception(\"Customer does not have enough money to make this purchase.\")\n",
    "            else:\n",
    "                self.fruit[fruit_name] = fruit_amt\n",
    "                self.money = money_left_over\n",
    "        except Exception as e:\n",
    "            print(traceback.format_exc())            "
   ]
  },
  {
   "cell_type": "code",
   "execution_count": 4,
   "id": "aac1f122",
   "metadata": {},
   "outputs": [],
   "source": [
    "list_of_customers = [Customer('Mindy', 'Smith', 0, 5.25, dict(), ['apple', 'orange']),\n",
    "                    Customer('Al', 'Johri', 1, 20.19, dict(), ['papaya', 'strawberries', 'pinapple', 'apple']),\n",
    "                    Customer('Hillary', 'Clinton', 0, 15, dict(), ['strawberries', 'orange']),\n",
    "                    Customer('Oliver', 'Twist', 1, 0.05, dict(), ['apple']),\n",
    "                    Customer('Donald', 'Trump', 1, 4000, dict(), ['durian'])]\n",
    "Whole_Foods = Store({'apple' :.29, 'banana': .05, 'orange': .20, \n",
    "                     'strawberries': .30, 'pinapple': 1.50, 'grapes': .22, 'durian': 5000})"
   ]
  },
  {
   "cell_type": "code",
   "execution_count": 7,
   "id": "23175f7b",
   "metadata": {},
   "outputs": [
    {
     "name": "stdout",
     "output_type": "stream",
     "text": [
      "Store does not contain this fruit\n",
      "Store does not contain this fruit\n",
      "Store does not contain this fruit\n",
      "Store does not contain this fruit\n",
      "Store does not contain this fruit\n"
     ]
    }
   ],
   "source": [
    "# Have each customer purchase 1 of each fruit in their list of preferred fruits.\n",
    "for x in list_of_customers:\n",
    "    try:\n",
    "        x.buy_fruit(Whole_Foods, x.preferred_fruit[i], Whole_Foods.inventory[x.preferred_fruit[i]])\n",
    "    except Exception:\n",
    "        print('Store does not contain this fruit')"
   ]
  }
 ],
 "metadata": {
  "kernelspec": {
   "display_name": "Python 3 (ipykernel)",
   "language": "python",
   "name": "python3"
  },
  "language_info": {
   "codemirror_mode": {
    "name": "ipython",
    "version": 3
   },
   "file_extension": ".py",
   "mimetype": "text/x-python",
   "name": "python",
   "nbconvert_exporter": "python",
   "pygments_lexer": "ipython3",
   "version": "3.9.7"
  }
 },
 "nbformat": 4,
 "nbformat_minor": 5
}
